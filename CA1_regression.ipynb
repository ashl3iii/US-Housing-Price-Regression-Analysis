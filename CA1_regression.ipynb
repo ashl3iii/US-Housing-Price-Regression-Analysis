{
 "cells": [
  {
   "cell_type": "markdown",
   "id": "8974637f-32c3-4960-91f5-722ff29d3cbb",
   "metadata": {
    "jp-MarkdownHeadingCollapsed": true,
    "tags": []
   },
   "source": [
    "# AIML Assignment 1: Housing dataset (Regression)\n",
    "- Name: Ashley Bai\n",
    "- Admin Number: P2237871\n",
    "- Class: DAAA/FT/2A/04"
   ]
  },
  {
   "cell_type": "markdown",
   "id": "13ad1562-deb9-46dd-a1e8-ead4871cca65",
   "metadata": {},
   "source": [
    "# Background\n",
    "- This is a dataset <b>to predict the housing price in US</b> based on various factors such as \n",
    "city, house area, No. of bedrooms and toilets, renovation status, etc. \n",
    "    \n",
    "    - <b>Target variable: Price</b>\n",
    "    \n",
    "# Table of Contents\n",
    "1. Background/Introduction\n",
    "2. Explanatory Data Analysis (EDA)\n",
    "3. Data Pre-Processing\n",
    "4. Feature Engineering\n",
    "5. Data Visualization\n",
    "6. Building Regression Models\n",
    "7. Evaluating Model Performances and choosing best model\n",
    "8. Model improvement by GridSearchCV and tuning hyperparameters to yield best results\n",
    "9. Use the finalised model on testing data\n",
    "10. Conclusion"
   ]
  },
  {
   "cell_type": "markdown",
   "id": "a5f02815-b936-4362-8b93-0f7af4084bb6",
   "metadata": {},
   "source": [
    "<h1><center>Explanatory Data Analysis (EDA): Explore <b>Raw</b> Dataset</center></h1>"
   ]
  },
  {
   "cell_type": "markdown",
   "id": "ca4bbcd4-f752-4a8e-ace1-5800131511d4",
   "metadata": {},
   "source": [
    "\n",
    "<h3>Import libraries/modules</h3>"
   ]
  },
  {
   "cell_type": "code",
   "execution_count": 4,
   "id": "5c35d181-5515-4beb-b1f1-3a292086c1da",
   "metadata": {},
   "outputs": [],
   "source": [
    "# import modules\n",
    "import pandas as pd\n",
    "import numpy as np\n",
    "import matplotlib.pyplot as plt\n",
    "import seaborn as sns"
   ]
  },
  {
   "cell_type": "markdown",
   "id": "cd5aa73b-2eb8-4cd3-a8b9-eff186421702",
   "metadata": {},
   "source": [
    "<h3>Load the \"housing_dataset.csv\" dataset</h3>"
   ]
  },
  {
   "cell_type": "code",
   "execution_count": 5,
   "id": "0fd26312-a4d1-463b-9e47-ed65bdd87836",
   "metadata": {},
   "outputs": [],
   "source": [
    "# load dataset\n",
    "housing_df = pd.read_csv(\"C:\\YEAR 2 SEM 1\\DAAAAIML\\DAAAAIML_CA1\\ST1511 AIML-CA1-datasets\\housing_dataset.csv\")"
   ]
  },
  {
   "cell_type": "markdown",
   "id": "0da1ec59-e687-4fbf-9c0a-eee2c5314fc2",
   "metadata": {},
   "source": [
    "<h3>Explore the RAW dataset (general overview of how df looks like)</h3>"
   ]
  },
  {
   "cell_type": "code",
   "execution_count": 6,
   "id": "792182e7-f5f2-42e1-9993-97f4e95ff0f5",
   "metadata": {},
   "outputs": [
    {
     "data": {
      "text/html": [
       "<div>\n",
       "<style scoped>\n",
       "    .dataframe tbody tr th:only-of-type {\n",
       "        vertical-align: middle;\n",
       "    }\n",
       "\n",
       "    .dataframe tbody tr th {\n",
       "        vertical-align: top;\n",
       "    }\n",
       "\n",
       "    .dataframe thead th {\n",
       "        text-align: right;\n",
       "    }\n",
       "</style>\n",
       "<table border=\"1\" class=\"dataframe\">\n",
       "  <thead>\n",
       "    <tr style=\"text-align: right;\">\n",
       "      <th></th>\n",
       "      <th>House ID</th>\n",
       "      <th>City</th>\n",
       "      <th>House Area (sqm)</th>\n",
       "      <th>No. of Bedrooms</th>\n",
       "      <th>No. of Toilets</th>\n",
       "      <th>Stories</th>\n",
       "      <th>Renovation Status</th>\n",
       "      <th>Price ($)</th>\n",
       "    </tr>\n",
       "  </thead>\n",
       "  <tbody>\n",
       "    <tr>\n",
       "      <th>0</th>\n",
       "      <td>0</td>\n",
       "      <td>Chicago</td>\n",
       "      <td>742.0</td>\n",
       "      <td>4</td>\n",
       "      <td>2</td>\n",
       "      <td>3</td>\n",
       "      <td>furnished</td>\n",
       "      <td>1330000</td>\n",
       "    </tr>\n",
       "    <tr>\n",
       "      <th>1</th>\n",
       "      <td>1</td>\n",
       "      <td>Denver</td>\n",
       "      <td>896.0</td>\n",
       "      <td>4</td>\n",
       "      <td>4</td>\n",
       "      <td>4</td>\n",
       "      <td>furnished</td>\n",
       "      <td>1225000</td>\n",
       "    </tr>\n",
       "    <tr>\n",
       "      <th>2</th>\n",
       "      <td>2</td>\n",
       "      <td>Chicago</td>\n",
       "      <td>996.0</td>\n",
       "      <td>3</td>\n",
       "      <td>2</td>\n",
       "      <td>2</td>\n",
       "      <td>semi-furnished</td>\n",
       "      <td>1225000</td>\n",
       "    </tr>\n",
       "    <tr>\n",
       "      <th>3</th>\n",
       "      <td>3</td>\n",
       "      <td>Seattle</td>\n",
       "      <td>750.0</td>\n",
       "      <td>4</td>\n",
       "      <td>2</td>\n",
       "      <td>2</td>\n",
       "      <td>furnished</td>\n",
       "      <td>1221500</td>\n",
       "    </tr>\n",
       "    <tr>\n",
       "      <th>4</th>\n",
       "      <td>4</td>\n",
       "      <td>New York</td>\n",
       "      <td>742.0</td>\n",
       "      <td>4</td>\n",
       "      <td>1</td>\n",
       "      <td>2</td>\n",
       "      <td>furnished</td>\n",
       "      <td>1141000</td>\n",
       "    </tr>\n",
       "  </tbody>\n",
       "</table>\n",
       "</div>"
      ],
      "text/plain": [
       "   House ID      City  House Area (sqm)  No. of Bedrooms  No. of Toilets  \\\n",
       "0         0   Chicago             742.0                4               2   \n",
       "1         1    Denver             896.0                4               4   \n",
       "2         2   Chicago             996.0                3               2   \n",
       "3         3   Seattle             750.0                4               2   \n",
       "4         4  New York             742.0                4               1   \n",
       "\n",
       "   Stories Renovation Status  Price ($)  \n",
       "0        3         furnished    1330000  \n",
       "1        4         furnished    1225000  \n",
       "2        2    semi-furnished    1225000  \n",
       "3        2         furnished    1221500  \n",
       "4        2         furnished    1141000  "
      ]
     },
     "execution_count": 6,
     "metadata": {},
     "output_type": "execute_result"
    }
   ],
   "source": [
    "# display first few rows of df: general overview of df\n",
    "housing_df.head(5)"
   ]
  },
  {
   "cell_type": "markdown",
   "id": "a02c5e92-12ec-4c3e-9b2b-47d6ff2f5ca2",
   "metadata": {},
   "source": [
    "- Dataset contains a mix of categorical and numerical variables.\n",
    "- Categorical variables: City, Renovation Status."
   ]
  },
  {
   "cell_type": "markdown",
   "id": "82cf1403-4a79-454f-bfee-3d3f3b4b383f",
   "metadata": {},
   "source": [
    "<h3>Check the shape of df</h3>"
   ]
  },
  {
   "cell_type": "code",
   "execution_count": 7,
   "id": "ccc1983b-0ca3-45e5-8112-6026b1a3965f",
   "metadata": {},
   "outputs": [
    {
     "data": {
      "text/plain": [
       "(545, 8)"
      ]
     },
     "execution_count": 7,
     "metadata": {},
     "output_type": "execute_result"
    }
   ],
   "source": [
    "# number of rows and columns in df\n",
    "housing_df.shape"
   ]
  },
  {
   "cell_type": "markdown",
   "id": "f250b9b2-8ef9-40d8-985a-e78463425479",
   "metadata": {},
   "source": [
    "- There are 545 rows and 8 columns in the original housing df."
   ]
  },
  {
   "cell_type": "markdown",
   "id": "a2a2f485-5624-44e4-a1d5-5765c6b0c372",
   "metadata": {},
   "source": [
    "<h3>Check data types of variables in df (especially existence of categorical variables)</h3>"
   ]
  },
  {
   "cell_type": "code",
   "execution_count": 8,
   "id": "2387a2ce-1afa-467d-a0d1-332630402795",
   "metadata": {},
   "outputs": [
    {
     "name": "stdout",
     "output_type": "stream",
     "text": [
      "<class 'pandas.core.frame.DataFrame'>\n",
      "RangeIndex: 545 entries, 0 to 544\n",
      "Data columns (total 8 columns):\n",
      " #   Column             Non-Null Count  Dtype  \n",
      "---  ------             --------------  -----  \n",
      " 0   House ID           545 non-null    int64  \n",
      " 1   City               545 non-null    object \n",
      " 2   House Area (sqm)   545 non-null    float64\n",
      " 3   No. of Bedrooms    545 non-null    int64  \n",
      " 4   No. of Toilets     545 non-null    int64  \n",
      " 5   Stories            545 non-null    int64  \n",
      " 6   Renovation Status  545 non-null    object \n",
      " 7   Price ($)          545 non-null    int64  \n",
      "dtypes: float64(1), int64(5), object(2)\n",
      "memory usage: 34.2+ KB\n"
     ]
    }
   ],
   "source": [
    "# display data types and number of null values\n",
    "housing_df.info()"
   ]
  },
  {
   "cell_type": "markdown",
   "id": "b5c86261-f699-4209-9083-c9e4ff4184e6",
   "metadata": {},
   "source": [
    "- All variables in housing_df are numerical except for 'City' and 'Renovation Status'."
   ]
  },
  {
   "cell_type": "markdown",
   "id": "e07a7c75-b8de-4f57-8ad9-37fed1ab7a16",
   "metadata": {},
   "source": [
    "<h3>Check columns in df</h3>"
   ]
  },
  {
   "cell_type": "code",
   "execution_count": 9,
   "id": "001716e5-79bd-4c63-9a31-7f9052838bca",
   "metadata": {},
   "outputs": [
    {
     "data": {
      "text/plain": [
       "Index(['House ID', 'City', 'House Area (sqm)', 'No. of Bedrooms',\n",
       "       'No. of Toilets', 'Stories', 'Renovation Status', 'Price ($)'],\n",
       "      dtype='object')"
      ]
     },
     "execution_count": 9,
     "metadata": {},
     "output_type": "execute_result"
    }
   ],
   "source": [
    "# columns in df\n",
    "housing_df.columns"
   ]
  },
  {
   "cell_type": "markdown",
   "id": "f0c054d2-5b6d-4f1e-a947-65d4b28d3838",
   "metadata": {},
   "source": [
    "<h3>Check values in categorical columns</h3>"
   ]
  },
  {
   "cell_type": "code",
   "execution_count": 10,
   "id": "5d43be4c-9269-4f5a-baae-1791bc37b5c9",
   "metadata": {},
   "outputs": [
    {
     "name": "stdout",
     "output_type": "stream",
     "text": [
      "New York    158\n",
      "Seattle     134\n",
      "Boston      105\n",
      "Denver       89\n",
      "Chicago      59\n",
      "Name: City, dtype: int64 \n",
      "\n",
      "semi-furnished    227\n",
      "unfurnished       178\n",
      "furnished         140\n",
      "Name: Renovation Status, dtype: int64\n"
     ]
    }
   ],
   "source": [
    "# values in columns in df (categorical variables)\n",
    "print(housing_df['City'].value_counts(), '\\n')\n",
    "print(housing_df['Renovation Status'].value_counts())"
   ]
  },
  {
   "cell_type": "markdown",
   "id": "b489694c-91ba-4616-b52d-2a2ae2ef1438",
   "metadata": {},
   "source": [
    "<h3>Check for existence of duplicates in df</h3>"
   ]
  },
  {
   "cell_type": "code",
   "execution_count": 11,
   "id": "0fe77fe4-c571-4e44-bf30-ad0988c309d9",
   "metadata": {},
   "outputs": [
    {
     "name": "stdout",
     "output_type": "stream",
     "text": [
      "0      False\n",
      "1      False\n",
      "2      False\n",
      "3      False\n",
      "4      False\n",
      "       ...  \n",
      "540    False\n",
      "541    False\n",
      "542    False\n",
      "543    False\n",
      "544    False\n",
      "Length: 545, dtype: bool\n",
      "\n",
      "\n",
      "Number of duplicated rows:  0\n"
     ]
    }
   ],
   "source": [
    "# check for duplicated values/rows\n",
    "print(housing_df.duplicated())\n",
    "print('\\n')\n",
    "\n",
    "# count the number of duplicated rows\n",
    "duplicated_rows = housing_df.duplicated().sum()\n",
    "\n",
    "# display the number of duplicated rows\n",
    "print('Number of duplicated rows: ', duplicated_rows)"
   ]
  },
  {
   "cell_type": "markdown",
   "id": "d06bb5ed-7d8b-4562-9f7b-a32faeab9fba",
   "metadata": {},
   "source": [
    "- There are no duplicated rows in the housing dataframe."
   ]
  },
  {
   "cell_type": "markdown",
   "id": "6de93541-07cd-4960-9ef0-127e21325dd6",
   "metadata": {},
   "source": [
    "<h3>Check for existence of outliers in df (numerical columns)</h3>"
   ]
  },
  {
   "cell_type": "code",
   "execution_count": 12,
   "id": "8ec62d03-f738-4af2-adb9-84df116e85e8",
   "metadata": {},
   "outputs": [
    {
     "data": {
      "image/png": "[encoded data removed]",
      "text/plain": [
       "<Figure size 1080x432 with 6 Axes>"
      ]
     },
     "metadata": {},
     "output_type": "display_data"
    }
   ],
   "source": [
    "# check for outliers by plotting box plots \n",
    "# set grid\n",
    "sns.set_style('whitegrid')\n",
    "\n",
    "# extract numerical columns in df\n",
    "numerical_cols = housing_df.select_dtypes(include=np.number).columns\n",
    "\n",
    "# create and set figure size\n",
    "plt.figure(figsize=(15,6))\n",
    "\n",
    "for col in numerical_cols:\n",
    "    # subplots\n",
    "    plt.subplot(1, len(numerical_cols), list(numerical_cols).index(col) + 1)\n",
    "    # plot boxplot\n",
    "    sns.boxplot(data=housing_df, y=col, color='purple')\n",
    "    # graph labels, title\n",
    "    plt.title(f'Outliers in {col}')\n",
    "    \n",
    "# spacing between subplots\n",
    "plt.tight_layout() \n",
    "# display graphs\n",
    "plt.show()  "
   ]
  },
  {
   "cell_type": "markdown",
   "id": "eb36037b-6c7f-4b8a-8703-be50f14356cc",
   "metadata": {},
   "source": [
    "- There are presence of outliers in almost all numerical columns in df."
   ]
  },
  {
   "cell_type": "markdown",
   "id": "693ab9c7-58a0-4c6d-95ef-d663a24d6e5e",
   "metadata": {},
   "source": [
    "<h3>Check for existence of missing values in df</h3>"
   ]
  },
  {
   "cell_type": "code",
   "execution_count": 13,
   "id": "85cf0a22-e81d-4ed4-83f4-2d244fdded15",
   "metadata": {},
   "outputs": [
    {
     "name": "stdout",
     "output_type": "stream",
     "text": [
      "False \n",
      "\n",
      "0 \n",
      "\n",
      "House ID             0\n",
      "City                 0\n",
      "House Area (sqm)     0\n",
      "No. of Bedrooms      0\n",
      "No. of Toilets       0\n",
      "Stories              0\n",
      "Renovation Status    0\n",
      "Price ($)            0\n",
      "dtype: int64 \n",
      "\n"
     ]
    }
   ],
   "source": [
    "# check for missing values\n",
    "# returns True if there are missing/null values\n",
    "print(housing_df.isnull().values.any(), \"\\n\")\n",
    "\n",
    "# check for number of null values for entire dataframe\n",
    "print(housing_df.isnull().sum().sum(), \"\\n\")\n",
    "\n",
    "# check for number of null values in each column\n",
    "print(housing_df.isnull().sum(), \"\\n\")"
   ]
  },
  {
   "cell_type": "markdown",
   "id": "44da5bc1-1df5-4fbc-bad1-615d69eaa8fa",
   "metadata": {},
   "source": [
    "- There are no missing values in housing dataframe."
   ]
  },
  {
   "cell_type": "markdown",
   "id": "d3701675-f175-4866-90cd-71d455f7070e",
   "metadata": {},
   "source": [
    "<h3>Summary statistics of numerical features in df</h3>"
   ]
  },
  {
   "cell_type": "code",
   "execution_count": 14,
   "id": "edb7dd5d-29be-49bf-b300-fd4de65090be",
   "metadata": {},
   "outputs": [
    {
     "data": {
      "text/html": [
       "<div>\n",
       "<style scoped>\n",
       "    .dataframe tbody tr th:only-of-type {\n",
       "        vertical-align: middle;\n",
       "    }\n",
       "\n",
       "    .dataframe tbody tr th {\n",
       "        vertical-align: top;\n",
       "    }\n",
       "\n",
       "    .dataframe thead th {\n",
       "        text-align: right;\n",
       "    }\n",
       "</style>\n",
       "<table border=\"1\" class=\"dataframe\">\n",
       "  <thead>\n",
       "    <tr style=\"text-align: right;\">\n",
       "      <th></th>\n",
       "      <th>House ID</th>\n",
       "      <th>House Area (sqm)</th>\n",
       "      <th>No. of Bedrooms</th>\n",
       "      <th>No. of Toilets</th>\n",
       "      <th>Stories</th>\n",
       "      <th>Price ($)</th>\n",
       "    </tr>\n",
       "  </thead>\n",
       "  <tbody>\n",
       "    <tr>\n",
       "      <th>count</th>\n",
       "      <td>545.0</td>\n",
       "      <td>545.0</td>\n",
       "      <td>545.0</td>\n",
       "      <td>545.0</td>\n",
       "      <td>545.0</td>\n",
       "      <td>545.0</td>\n",
       "    </tr>\n",
       "    <tr>\n",
       "      <th>mean</th>\n",
       "      <td>272.0</td>\n",
       "      <td>515.0</td>\n",
       "      <td>3.0</td>\n",
       "      <td>1.0</td>\n",
       "      <td>2.0</td>\n",
       "      <td>476673.0</td>\n",
       "    </tr>\n",
       "    <tr>\n",
       "      <th>std</th>\n",
       "      <td>157.0</td>\n",
       "      <td>217.0</td>\n",
       "      <td>1.0</td>\n",
       "      <td>1.0</td>\n",
       "      <td>1.0</td>\n",
       "      <td>187044.0</td>\n",
       "    </tr>\n",
       "    <tr>\n",
       "      <th>min</th>\n",
       "      <td>0.0</td>\n",
       "      <td>165.0</td>\n",
       "      <td>1.0</td>\n",
       "      <td>1.0</td>\n",
       "      <td>1.0</td>\n",
       "      <td>175000.0</td>\n",
       "    </tr>\n",
       "    <tr>\n",
       "      <th>25%</th>\n",
       "      <td>136.0</td>\n",
       "      <td>360.0</td>\n",
       "      <td>2.0</td>\n",
       "      <td>1.0</td>\n",
       "      <td>1.0</td>\n",
       "      <td>343000.0</td>\n",
       "    </tr>\n",
       "    <tr>\n",
       "      <th>50%</th>\n",
       "      <td>272.0</td>\n",
       "      <td>460.0</td>\n",
       "      <td>3.0</td>\n",
       "      <td>1.0</td>\n",
       "      <td>2.0</td>\n",
       "      <td>434000.0</td>\n",
       "    </tr>\n",
       "    <tr>\n",
       "      <th>75%</th>\n",
       "      <td>408.0</td>\n",
       "      <td>636.0</td>\n",
       "      <td>3.0</td>\n",
       "      <td>2.0</td>\n",
       "      <td>2.0</td>\n",
       "      <td>574000.0</td>\n",
       "    </tr>\n",
       "    <tr>\n",
       "      <th>max</th>\n",
       "      <td>544.0</td>\n",
       "      <td>1620.0</td>\n",
       "      <td>6.0</td>\n",
       "      <td>4.0</td>\n",
       "      <td>4.0</td>\n",
       "      <td>1330000.0</td>\n",
       "    </tr>\n",
       "  </tbody>\n",
       "</table>\n",
       "</div>"
      ],
      "text/plain": [
       "       House ID  House Area (sqm)  No. of Bedrooms  No. of Toilets  Stories  \\\n",
       "count     545.0             545.0            545.0           545.0    545.0   \n",
       "mean      272.0             515.0              3.0             1.0      2.0   \n",
       "std       157.0             217.0              1.0             1.0      1.0   \n",
       "min         0.0             165.0              1.0             1.0      1.0   \n",
       "25%       136.0             360.0              2.0             1.0      1.0   \n",
       "50%       272.0             460.0              3.0             1.0      2.0   \n",
       "75%       408.0             636.0              3.0             2.0      2.0   \n",
       "max       544.0            1620.0              6.0             4.0      4.0   \n",
       "\n",
       "       Price ($)  \n",
       "count      545.0  \n",
       "mean    476673.0  \n",
       "std     187044.0  \n",
       "min     175000.0  \n",
       "25%     343000.0  \n",
       "50%     434000.0  \n",
       "75%     574000.0  \n",
       "max    1330000.0  "
      ]
     },
     "execution_count": 14,
     "metadata": {},
     "output_type": "execute_result"
    }
   ],
   "source": [
    "# display summary statistics of numerical features\n",
    "housing_df.describe().round()"
   ]
  },
  {
   "cell_type": "markdown",
   "id": "18292d27-8852-4ceb-834c-e66921328db9",
   "metadata": {},
   "source": [
    "- There are 545 distinct houses.\n",
    "- The mean size of houses is 515sqm, with mean price of $476,673.\n",
    "- Generally, every house has 1 toilet, 2 stories, and 3 bedrooms.\n",
    "- Standard Deviation of housing prices is quite large, with minimum price being 175,000 and maximum price being 1,330,000. (target variable has large variability)\n",
    "- This tells us that dataset has outliers."
   ]
  },
  {
   "cell_type": "markdown",
   "id": "87c53f4c-d324-4695-8b4b-33275e81025f",
   "metadata": {},
   "source": [
    "<h1><center>Data Pre-Processing</center></h1>"
   ]
  },
  {
   "cell_type": "markdown",
   "id": "8ee34983-3469-4995-b2e6-ce1f8273fec7",
   "metadata": {},
   "source": [
    "<h3>Handling non-numerical columns in df via One-Hot Encoding/Label Encoding</h3>"
   ]
  },
  {
   "cell_type": "markdown",
   "id": "d7c0690c-de02-4d3b-bf26-a58376a0f68d",
   "metadata": {},
   "source": [
    "- It is important to transform categorical variables in numerical ones as:\n",
    "    - Data will be more suitable for machine learning algorithms.\n",
    "    - Ordinal Relationships (Renovation Status)."
   ]
  },
  {
   "cell_type": "code",
   "execution_count": 15,
   "id": "28b55658-64cb-4ee2-9827-8abbc20d3017",
   "metadata": {},
   "outputs": [
    {
     "data": {
      "text/html": [
       "<div>\n",
       "<style scoped>\n",
       "    .dataframe tbody tr th:only-of-type {\n",
       "        vertical-align: middle;\n",
       "    }\n",
       "\n",
       "    .dataframe tbody tr th {\n",
       "        vertical-align: top;\n",
       "    }\n",
       "\n",
       "    .dataframe thead th {\n",
       "        text-align: right;\n",
       "    }\n",
       "</style>\n",
       "<table border=\"1\" class=\"dataframe\">\n",
       "  <thead>\n",
       "    <tr style=\"text-align: right;\">\n",
       "      <th></th>\n",
       "      <th>House ID</th>\n",
       "      <th>City</th>\n",
       "      <th>House Area (sqm)</th>\n",
       "      <th>No. of Bedrooms</th>\n",
       "      <th>No. of Toilets</th>\n",
       "      <th>Stories</th>\n",
       "      <th>Renovation Status</th>\n",
       "      <th>Price ($)</th>\n",
       "    </tr>\n",
       "  </thead>\n",
       "  <tbody>\n",
       "    <tr>\n",
       "      <th>0</th>\n",
       "      <td>0</td>\n",
       "      <td>Chicago</td>\n",
       "      <td>742.0</td>\n",
       "      <td>4</td>\n",
       "      <td>2</td>\n",
       "      <td>3</td>\n",
       "      <td>furnished</td>\n",
       "      <td>1330000</td>\n",
       "    </tr>\n",
       "    <tr>\n",
       "      <th>1</th>\n",
       "      <td>1</td>\n",
       "      <td>Denver</td>\n",
       "      <td>896.0</td>\n",
       "      <td>4</td>\n",
       "      <td>4</td>\n",
       "      <td>4</td>\n",
       "      <td>furnished</td>\n",
       "      <td>1225000</td>\n",
       "    </tr>\n",
       "    <tr>\n",
       "      <th>2</th>\n",
       "      <td>2</td>\n",
       "      <td>Chicago</td>\n",
       "      <td>996.0</td>\n",
       "      <td>3</td>\n",
       "      <td>2</td>\n",
       "      <td>2</td>\n",
       "      <td>semi-furnished</td>\n",
       "      <td>1225000</td>\n",
       "    </tr>\n",
       "    <tr>\n",
       "      <th>3</th>\n",
       "      <td>3</td>\n",
       "      <td>Seattle</td>\n",
       "      <td>750.0</td>\n",
       "      <td>4</td>\n",
       "      <td>2</td>\n",
       "      <td>2</td>\n",
       "      <td>furnished</td>\n",
       "      <td>1221500</td>\n",
       "    </tr>\n",
       "    <tr>\n",
       "      <th>4</th>\n",
       "      <td>4</td>\n",
       "      <td>New York</td>\n",
       "      <td>742.0</td>\n",
       "      <td>4</td>\n",
       "      <td>1</td>\n",
       "      <td>2</td>\n",
       "      <td>furnished</td>\n",
       "      <td>1141000</td>\n",
       "    </tr>\n",
       "  </tbody>\n",
       "</table>\n",
       "</div>"
      ],
      "text/plain": [
       "   House ID      City  House Area (sqm)  No. of Bedrooms  No. of Toilets  \\\n",
       "0         0   Chicago             742.0                4               2   \n",
       "1         1    Denver             896.0                4               4   \n",
       "2         2   Chicago             996.0                3               2   \n",
       "3         3   Seattle             750.0                4               2   \n",
       "4         4  New York             742.0                4               1   \n",
       "\n",
       "   Stories Renovation Status  Price ($)  \n",
       "0        3         furnished    1330000  \n",
       "1        4         furnished    1225000  \n",
       "2        2    semi-furnished    1225000  \n",
       "3        2         furnished    1221500  \n",
       "4        2         furnished    1141000  "
      ]
     },
     "execution_count": 15,
     "metadata": {},
     "output_type": "execute_result"
    }
   ],
   "source": [
    "# before One-Hot Encoding and Label Encoding\n",
    "housing_df.head(5)"
   ]
  },
  {
   "cell_type": "markdown",
   "id": "daa1763a-2212-451f-96a8-55b56d362eb3",
   "metadata": {},
   "source": [
    "- City: \n",
    "    - Perform One-Hot Encoding\n",
    "- Renovation Status: \n",
    "    - Perform Label-Encoding instead of One-Hot Encoding, as by assigning a unique numerical value to each level, quality of house can be shown.\n",
    "    - To represent the quality of the house renovation\n",
    "        - 0: Unfurnished\n",
    "        - 1: Semi-Furnished\n",
    "        - 2: Furnished"
   ]
  },
  {
   "cell_type": "code",
   "execution_count": 16,
   "id": "670ca1c8-01b1-456b-90a3-2f85070e23d9",
   "metadata": {},
   "outputs": [],
   "source": [
    "# perform One-Hot Encoding on 'City' column\n",
    "city_enc = pd.get_dummies(housing_df['City'], prefix='City')\n",
    "\n",
    "# perform Label Encoding on 'Renovation Status' column\n",
    "assignValues = {'unfurnished': 0, 'semi-furnished': 1, 'furnished': 2}\n",
    "housing_df['Renovation Status'] = housing_df['Renovation Status'].map(assignValues)\n",
    "\n",
    "# concatenate the encoded columns with original df\n",
    "housing_df = pd.concat([housing_df, city_enc], axis=1)\n",
    "\n",
    "# drop original non-numerical column\n",
    "housing_df = housing_df.drop(['City'], axis=1)"
   ]
  },
  {
   "cell_type": "code",
   "execution_count": 17,
   "id": "c19c98df-ddad-4b59-bd50-99436ac85385",
   "metadata": {},
   "outputs": [
    {
     "data": {
      "text/html": [
       "<div>\n",
       "<style scoped>\n",
       "    .dataframe tbody tr th:only-of-type {\n",
       "        vertical-align: middle;\n",
       "    }\n",
       "\n",
       "    .dataframe tbody tr th {\n",
       "        vertical-align: top;\n",
       "    }\n",
       "\n",
       "    .dataframe thead th {\n",
       "        text-align: right;\n",
       "    }\n",
       "</style>\n",
       "<table border=\"1\" class=\"dataframe\">\n",
       "  <thead>\n",
       "    <tr style=\"text-align: right;\">\n",
       "      <th></th>\n",
       "      <th>House ID</th>\n",
       "      <th>House Area (sqm)</th>\n",
       "      <th>No. of Bedrooms</th>\n",
       "      <th>No. of Toilets</th>\n",
       "      <th>Stories</th>\n",
       "      <th>Renovation Status</th>\n",
       "      <th>Price ($)</th>\n",
       "      <th>City_Boston</th>\n",
       "      <th>City_Chicago</th>\n",
       "      <th>City_Denver</th>\n",
       "      <th>City_New York</th>\n",
       "      <th>City_Seattle</th>\n",
       "    </tr>\n",
       "  </thead>\n",
       "  <tbody>\n",
       "    <tr>\n",
       "      <th>0</th>\n",
       "      <td>0</td>\n",
       "      <td>742.0</td>\n",
       "      <td>4</td>\n",
       "      <td>2</td>\n",
       "      <td>3</td>\n",
       "      <td>2</td>\n",
       "      <td>1330000</td>\n",
       "      <td>0</td>\n",
       "      <td>1</td>\n",
       "      <td>0</td>\n",
       "      <td>0</td>\n",
       "      <td>0</td>\n",
       "    </tr>\n",
       "    <tr>\n",
       "      <th>1</th>\n",
       "      <td>1</td>\n",
       "      <td>896.0</td>\n",
       "      <td>4</td>\n",
       "      <td>4</td>\n",
       "      <td>4</td>\n",
       "      <td>2</td>\n",
       "      <td>1225000</td>\n",
       "      <td>0</td>\n",
       "      <td>0</td>\n",
       "      <td>1</td>\n",
       "      <td>0</td>\n",
       "      <td>0</td>\n",
       "    </tr>\n",
       "    <tr>\n",
       "      <th>2</th>\n",
       "      <td>2</td>\n",
       "      <td>996.0</td>\n",
       "      <td>3</td>\n",
       "      <td>2</td>\n",
       "      <td>2</td>\n",
       "      <td>1</td>\n",
       "      <td>1225000</td>\n",
       "      <td>0</td>\n",
       "      <td>1</td>\n",
       "      <td>0</td>\n",
       "      <td>0</td>\n",
       "      <td>0</td>\n",
       "    </tr>\n",
       "    <tr>\n",
       "      <th>3</th>\n",
       "      <td>3</td>\n",
       "      <td>750.0</td>\n",
       "      <td>4</td>\n",
       "      <td>2</td>\n",
       "      <td>2</td>\n",
       "      <td>2</td>\n",
       "      <td>1221500</td>\n",
       "      <td>0</td>\n",
       "      <td>0</td>\n",
       "      <td>0</td>\n",
       "      <td>0</td>\n",
       "      <td>1</td>\n",
       "    </tr>\n",
       "    <tr>\n",
       "      <th>4</th>\n",
       "      <td>4</td>\n",
       "      <td>742.0</td>\n",
       "      <td>4</td>\n",
       "      <td>1</td>\n",
       "      <td>2</td>\n",
       "      <td>2</td>\n",
       "      <td>1141000</td>\n",
       "      <td>0</td>\n",
       "      <td>0</td>\n",
       "      <td>0</td>\n",
       "      <td>1</td>\n",
       "      <td>0</td>\n",
       "    </tr>\n",
       "  </tbody>\n",
       "</table>\n",
       "</div>"
      ],
      "text/plain": [
       "   House ID  House Area (sqm)  No. of Bedrooms  No. of Toilets  Stories  \\\n",
       "0         0             742.0                4               2        3   \n",
       "1         1             896.0                4               4        4   \n",
       "2         2             996.0                3               2        2   \n",
       "3         3             750.0                4               2        2   \n",
       "4         4             742.0                4               1        2   \n",
       "\n",
       "   Renovation Status  Price ($)  City_Boston  City_Chicago  City_Denver  \\\n",
       "0                  2    1330000            0             1            0   \n",
       "1                  2    1225000            0             0            1   \n",
       "2                  1    1225000            0             1            0   \n",
       "3                  2    1221500            0             0            0   \n",
       "4                  2    1141000            0             0            0   \n",
       "\n",
       "   City_New York  City_Seattle  \n",
       "0              0             0  \n",
       "1              0             0  \n",
       "2              0             0  \n",
       "3              0             1  \n",
       "4              1             0  "
      ]
     },
     "execution_count": 17,
     "metadata": {},
     "output_type": "execute_result"
    }
   ],
   "source": [
    "# after One-Hot Encoding and Label Encoding\n",
    "housing_df.head(5)"
   ]
  },
  {
   "cell_type": "markdown",
   "id": "8d7c0b03-63c1-459e-9c56-bc96ff635bd7",
   "metadata": {},
   "source": [
    "<h3>Check to see if columns are now all numerical</h3>"
   ]
  },
  {
   "cell_type": "code",
   "execution_count": 18,
   "id": "9c8b5906-403d-4fb4-87c0-1bad762a5bfc",
   "metadata": {},
   "outputs": [
    {
     "name": "stdout",
     "output_type": "stream",
     "text": [
      "<class 'pandas.core.frame.DataFrame'>\n",
      "RangeIndex: 545 entries, 0 to 544\n",
      "Data columns (total 12 columns):\n",
      " #   Column             Non-Null Count  Dtype  \n",
      "---  ------             --------------  -----  \n",
      " 0   House ID           545 non-null    int64  \n",
      " 1   House Area (sqm)   545 non-null    float64\n",
      " 2   No. of Bedrooms    545 non-null    int64  \n",
      " 3   No. of Toilets     545 non-null    int64  \n",
      " 4   Stories            545 non-null    int64  \n",
      " 5   Renovation Status  545 non-null    int64  \n",
      " 6   Price ($)          545 non-null    int64  \n",
      " 7   City_Boston        545 non-null    uint8  \n",
      " 8   City_Chicago       545 non-null    uint8  \n",
      " 9   City_Denver        545 non-null    uint8  \n",
      " 10  City_New York      545 non-null    uint8  \n",
      " 11  City_Seattle       545 non-null    uint8  \n",
      "dtypes: float64(1), int64(6), uint8(5)\n",
      "memory usage: 32.6 KB\n"
     ]
    }
   ],
   "source": [
    "# check if dtypes are now numerical\n",
    "housing_df.info()"
   ]
  },
  {
   "cell_type": "markdown",
   "id": "e6b63d68-77d7-44fc-9eba-07a50b4a05e6",
   "metadata": {},
   "source": [
    "- All variables in housing dataframe are now numerical."
   ]
  },
  {
   "cell_type": "markdown",
   "id": "c66aee0b-45f3-44ac-a83e-2b8cb4ed76a0",
   "metadata": {},
   "source": [
    "<h1><center>Feature Engineering</center></h1>"
   ]
  },
  {
   "cell_type": "markdown",
   "id": "bd66178b-03d0-41f4-a432-31d30bd42710",
   "metadata": {},
   "source": [
    "<h3>New feature 1: <b>Bedroom-to-Toilet Ratio</b></h3>\n",
    "    - This feature can give an idea of balance between bedroom and bathroom space, which in turn may affect the housing price."
   ]
  },
  {
   "cell_type": "code",
   "execution_count": 19,
   "id": "3edbb4fa-d04b-4c2b-ba6f-944f33999429",
   "metadata": {},
   "outputs": [
    {
     "data": {
      "text/html": [
       "<div>\n",
       "<style scoped>\n",
       "    .dataframe tbody tr th:only-of-type {\n",
       "        vertical-align: middle;\n",
       "    }\n",
       "\n",
       "    .dataframe tbody tr th {\n",
       "        vertical-align: top;\n",
       "    }\n",
       "\n",
       "    .dataframe thead th {\n",
       "        text-align: right;\n",
       "    }\n",
       "</style>\n",
       "<table border=\"1\" class=\"dataframe\">\n",
       "  <thead>\n",
       "    <tr style=\"text-align: right;\">\n",
       "      <th></th>\n",
       "      <th>House ID</th>\n",
       "      <th>House Area (sqm)</th>\n",
       "      <th>No. of Bedrooms</th>\n",
       "      <th>No. of Toilets</th>\n",
       "      <th>Stories</th>\n",
       "      <th>Renovation Status</th>\n",
       "      <th>Price ($)</th>\n",
       "      <th>City_Boston</th>\n",
       "      <th>City_Chicago</th>\n",
       "      <th>City_Denver</th>\n",
       "      <th>City_New York</th>\n",
       "      <th>City_Seattle</th>\n",
       "      <th>BedroomToiletRatio</th>\n",
       "    </tr>\n",
       "  </thead>\n",
       "  <tbody>\n",
       "    <tr>\n",
       "      <th>0</th>\n",
       "      <td>0</td>\n",
       "      <td>742.0</td>\n",
       "      <td>4</td>\n",
       "      <td>2</td>\n",
       "      <td>3</td>\n",
       "      <td>2</td>\n",
       "      <td>1330000</td>\n",
       "      <td>0</td>\n",
       "      <td>1</td>\n",
       "      <td>0</td>\n",
       "      <td>0</td>\n",
       "      <td>0</td>\n",
       "      <td>2.0</td>\n",
       "    </tr>\n",
       "    <tr>\n",
       "      <th>1</th>\n",
       "      <td>1</td>\n",
       "      <td>896.0</td>\n",
       "      <td>4</td>\n",
       "      <td>4</td>\n",
       "      <td>4</td>\n",
       "      <td>2</td>\n",
       "      <td>1225000</td>\n",
       "      <td>0</td>\n",
       "      <td>0</td>\n",
       "      <td>1</td>\n",
       "      <td>0</td>\n",
       "      <td>0</td>\n",
       "      <td>1.0</td>\n",
       "    </tr>\n",
       "    <tr>\n",
       "      <th>2</th>\n",
       "      <td>2</td>\n",
       "      <td>996.0</td>\n",
       "      <td>3</td>\n",
       "      <td>2</td>\n",
       "      <td>2</td>\n",
       "      <td>1</td>\n",
       "      <td>1225000</td>\n",
       "      <td>0</td>\n",
       "      <td>1</td>\n",
       "      <td>0</td>\n",
       "      <td>0</td>\n",
       "      <td>0</td>\n",
       "      <td>1.5</td>\n",
       "    </tr>\n",
       "    <tr>\n",
       "      <th>3</th>\n",
       "      <td>3</td>\n",
       "      <td>750.0</td>\n",
       "      <td>4</td>\n",
       "      <td>2</td>\n",
       "      <td>2</td>\n",
       "      <td>2</td>\n",
       "      <td>1221500</td>\n",
       "      <td>0</td>\n",
       "      <td>0</td>\n",
       "      <td>0</td>\n",
       "      <td>0</td>\n",
       "      <td>1</td>\n",
       "      <td>2.0</td>\n",
       "    </tr>\n",
       "    <tr>\n",
       "      <th>4</th>\n",
       "      <td>4</td>\n",
       "      <td>742.0</td>\n",
       "      <td>4</td>\n",
       "      <td>1</td>\n",
       "      <td>2</td>\n",
       "      <td>2</td>\n",
       "      <td>1141000</td>\n",
       "      <td>0</td>\n",
       "      <td>0</td>\n",
       "      <td>0</td>\n",
       "      <td>1</td>\n",
       "      <td>0</td>\n",
       "      <td>4.0</td>\n",
       "    </tr>\n",
       "  </tbody>\n",
       "</table>\n",
       "</div>"
      ],
      "text/plain": [
       "   House ID  House Area (sqm)  No. of Bedrooms  No. of Toilets  Stories  \\\n",
       "0         0             742.0                4               2        3   \n",
       "1         1             896.0                4               4        4   \n",
       "2         2             996.0                3               2        2   \n",
       "3         3             750.0                4               2        2   \n",
       "4         4             742.0                4               1        2   \n",
       "\n",
       "   Renovation Status  Price ($)  City_Boston  City_Chicago  City_Denver  \\\n",
       "0                  2    1330000            0             1            0   \n",
       "1                  2    1225000            0             0            1   \n",
       "2                  1    1225000            0             1            0   \n",
       "3                  2    1221500            0             0            0   \n",
       "4                  2    1141000            0             0            0   \n",
       "\n",
       "   City_New York  City_Seattle  BedroomToiletRatio  \n",
       "0              0             0                 2.0  \n",
       "1              0             0                 1.0  \n",
       "2              0             0                 1.5  \n",
       "3              0             1                 2.0  \n",
       "4              1             0                 4.0  "
      ]
     },
     "execution_count": 19,
     "metadata": {},
     "output_type": "execute_result"
    }
   ],
   "source": [
    "# create new column and calculate BedroomToiletRatio by dividing No. of Bedrooms by No. of Toilets\n",
    "housing_df['BedroomToiletRatio'] = housing_df['No. of Bedrooms'] / housing_df['No. of Toilets']\n",
    "\n",
    "# display output\n",
    "housing_df.head(5)"
   ]
  },
  {
   "cell_type": "markdown",
   "id": "c8647a05-b65e-4cf3-9b6c-f98fb889f72a",
   "metadata": {},
   "source": [
    "<h3>New feature 2: <b>Area per Bedroom</b></h3>\n",
    "    - To see how much space in bedrooms which may affect the price of a house."
   ]
  },
  {
   "cell_type": "code",
   "execution_count": 20,
   "id": "91cc7663-452c-4479-b8c1-c6bd47c67a1b",
   "metadata": {},
   "outputs": [
    {
     "data": {
      "text/html": [
       "<div>\n",
       "<style scoped>\n",
       "    .dataframe tbody tr th:only-of-type {\n",
       "        vertical-align: middle;\n",
       "    }\n",
       "\n",
       "    .dataframe tbody tr th {\n",
       "        vertical-align: top;\n",
       "    }\n",
       "\n",
       "    .dataframe thead th {\n",
       "        text-align: right;\n",
       "    }\n",
       "</style>\n",
       "<table border=\"1\" class=\"dataframe\">\n",
       "  <thead>\n",
       "    <tr style=\"text-align: right;\">\n",
       "      <th></th>\n",
       "      <th>House ID</th>\n",
       "      <th>House Area (sqm)</th>\n",
       "      <th>No. of Bedrooms</th>\n",
       "      <th>No. of Toilets</th>\n",
       "      <th>Stories</th>\n",
       "      <th>Renovation Status</th>\n",
       "      <th>Price ($)</th>\n",
       "      <th>City_Boston</th>\n",
       "      <th>City_Chicago</th>\n",
       "      <th>City_Denver</th>\n",
       "      <th>City_New York</th>\n",
       "      <th>City_Seattle</th>\n",
       "      <th>BedroomToiletRatio</th>\n",
       "      <th>Area per Bedroom</th>\n",
       "    </tr>\n",
       "  </thead>\n",
       "  <tbody>\n",
       "    <tr>\n",
       "      <th>0</th>\n",
       "      <td>0</td>\n",
       "      <td>742.0</td>\n",
       "      <td>4</td>\n",
       "      <td>2</td>\n",
       "      <td>3</td>\n",
       "      <td>2</td>\n",
       "      <td>1330000</td>\n",
       "      <td>0</td>\n",
       "      <td>1</td>\n",
       "      <td>0</td>\n",
       "      <td>0</td>\n",
       "      <td>0</td>\n",
       "      <td>2.0</td>\n",
       "      <td>185.5</td>\n",
       "    </tr>\n",
       "    <tr>\n",
       "      <th>1</th>\n",
       "      <td>1</td>\n",
       "      <td>896.0</td>\n",
       "      <td>4</td>\n",
       "      <td>4</td>\n",
       "      <td>4</td>\n",
       "      <td>2</td>\n",
       "      <td>1225000</td>\n",
       "      <td>0</td>\n",
       "      <td>0</td>\n",
       "      <td>1</td>\n",
       "      <td>0</td>\n",
       "      <td>0</td>\n",
       "      <td>1.0</td>\n",
       "      <td>224.0</td>\n",
       "    </tr>\n",
       "    <tr>\n",
       "      <th>2</th>\n",
       "      <td>2</td>\n",
       "      <td>996.0</td>\n",
       "      <td>3</td>\n",
       "      <td>2</td>\n",
       "      <td>2</td>\n",
       "      <td>1</td>\n",
       "      <td>1225000</td>\n",
       "      <td>0</td>\n",
       "      <td>1</td>\n",
       "      <td>0</td>\n",
       "      <td>0</td>\n",
       "      <td>0</td>\n",
       "      <td>1.5</td>\n",
       "      <td>332.0</td>\n",
       "    </tr>\n",
       "    <tr>\n",
       "      <th>3</th>\n",
       "      <td>3</td>\n",
       "      <td>750.0</td>\n",
       "      <td>4</td>\n",
       "      <td>2</td>\n",
       "      <td>2</td>\n",
       "      <td>2</td>\n",
       "      <td>1221500</td>\n",
       "      <td>0</td>\n",
       "      <td>0</td>\n",
       "      <td>0</td>\n",
       "      <td>0</td>\n",
       "      <td>1</td>\n",
       "      <td>2.0</td>\n",
       "      <td>187.5</td>\n",
       "    </tr>\n",
       "    <tr>\n",
       "      <th>4</th>\n",
       "      <td>4</td>\n",
       "      <td>742.0</td>\n",
       "      <td>4</td>\n",
       "      <td>1</td>\n",
       "      <td>2</td>\n",
       "      <td>2</td>\n",
       "      <td>1141000</td>\n",
       "      <td>0</td>\n",
       "      <td>0</td>\n",
       "      <td>0</td>\n",
       "      <td>1</td>\n",
       "      <td>0</td>\n",
       "      <td>4.0</td>\n",
       "      <td>185.5</td>\n",
       "    </tr>\n",
       "  </tbody>\n",
       "</table>\n",
       "</div>"
      ],
      "text/plain": [
       "   House ID  House Area (sqm)  No. of Bedrooms  No. of Toilets  Stories  \\\n",
       "0         0             742.0                4               2        3   \n",
       "1         1             896.0                4               4        4   \n",
       "2         2             996.0                3               2        2   \n",
       "3         3             750.0                4               2        2   \n",
       "4         4             742.0                4               1        2   \n",
       "\n",
       "   Renovation Status  Price ($)  City_Boston  City_Chicago  City_Denver  \\\n",
       "0                  2    1330000            0             1            0   \n",
       "1                  2    1225000            0             0            1   \n",
       "2                  1    1225000            0             1            0   \n",
       "3                  2    1221500            0             0            0   \n",
       "4                  2    1141000            0             0            0   \n",
       "\n",
       "   City_New York  City_Seattle  BedroomToiletRatio  Area per Bedroom  \n",
       "0              0             0                 2.0             185.5  \n",
       "1              0             0                 1.0             224.0  \n",
       "2              0             0                 1.5             332.0  \n",
       "3              0             1                 2.0             187.5  \n",
       "4              1             0                 4.0             185.5  "
      ]
     },
     "execution_count": 20,
     "metadata": {},
     "output_type": "execute_result"
    }
   ],
   "source": [
    "# create new column and calculate Area per Bedroom by dividing House Area by No. of Bedrooms = Average area per bedroom\n",
    "housing_df['Area per Bedroom'] = housing_df['House Area (sqm)'] / housing_df['No. of Bedrooms']\n",
    "\n",
    "# display output\n",
    "housing_df.head(5)"
   ]
  },
  {
   "cell_type": "markdown",
   "id": "98c7b513-b62d-4f82-a7ba-42f8ada410ad",
   "metadata": {},
   "source": [
    "<h3>New feature 3: <b>Area per Toilet</b></h3>\n",
    "    - To see how spacious and convenient bathrooms in the house are, which may affect the price of a house."
   ]
  },
  {
   "cell_type": "code",
   "execution_count": 21,
   "id": "0d9b7e44-036e-4614-a30f-d4d803a43c4d",
   "metadata": {},
   "outputs": [
    {
     "data": {
      "text/html": [
       "<div>\n",
       "<style scoped>\n",
       "    .dataframe tbody tr th:only-of-type {\n",
       "        vertical-align: middle;\n",
       "    }\n",
       "\n",
       "    .dataframe tbody tr th {\n",
       "        vertical-align: top;\n",
       "    }\n",
       "\n",
       "    .dataframe thead th {\n",
       "        text-align: right;\n",
       "    }\n",
       "</style>\n",
       "<table border=\"1\" class=\"dataframe\">\n",
       "  <thead>\n",
       "    <tr style=\"text-align: right;\">\n",
       "      <th></th>\n",
       "      <th>House ID</th>\n",
       "      <th>House Area (sqm)</th>\n",
       "      <th>No. of Bedrooms</th>\n",
       "      <th>No. of Toilets</th>\n",
       "      <th>Stories</th>\n",
       "      <th>Renovation Status</th>\n",
       "      <th>Price ($)</th>\n",
       "      <th>City_Boston</th>\n",
       "      <th>City_Chicago</th>\n",
       "      <th>City_Denver</th>\n",
       "      <th>City_New York</th>\n",
       "      <th>City_Seattle</th>\n",
       "      <th>BedroomToiletRatio</th>\n",
       "      <th>Area per Bedroom</th>\n",
       "      <th>Area per Toilet</th>\n",
       "    </tr>\n",
       "  </thead>\n",
       "  <tbody>\n",
       "    <tr>\n",
       "      <th>0</th>\n",
       "      <td>0</td>\n",
       "      <td>742.0</td>\n",
       "      <td>4</td>\n",
       "      <td>2</td>\n",
       "      <td>3</td>\n",
       "      <td>2</td>\n",
       "      <td>1330000</td>\n",
       "      <td>0</td>\n",
       "      <td>1</td>\n",
       "      <td>0</td>\n",
       "      <td>0</td>\n",
       "      <td>0</td>\n",
       "      <td>2.0</td>\n",
       "      <td>185.5</td>\n",
       "      <td>371.0</td>\n",
       "    </tr>\n",
       "    <tr>\n",
       "      <th>1</th>\n",
       "      <td>1</td>\n",
       "      <td>896.0</td>\n",
       "      <td>4</td>\n",
       "      <td>4</td>\n",
       "      <td>4</td>\n",
       "      <td>2</td>\n",
       "      <td>1225000</td>\n",
       "      <td>0</td>\n",
       "      <td>0</td>\n",
       "      <td>1</td>\n",
       "      <td>0</td>\n",
       "      <td>0</td>\n",
       "      <td>1.0</td>\n",
       "      <td>224.0</td>\n",
       "      <td>224.0</td>\n",
       "    </tr>\n",
       "    <tr>\n",
       "      <th>2</th>\n",
       "      <td>2</td>\n",
       "      <td>996.0</td>\n",
       "      <td>3</td>\n",
       "      <td>2</td>\n",
       "      <td>2</td>\n",
       "      <td>1</td>\n",
       "      <td>1225000</td>\n",
       "      <td>0</td>\n",
       "      <td>1</td>\n",
       "      <td>0</td>\n",
       "      <td>0</td>\n",
       "      <td>0</td>\n",
       "      <td>1.5</td>\n",
       "      <td>332.0</td>\n",
       "      <td>498.0</td>\n",
       "    </tr>\n",
       "    <tr>\n",
       "      <th>3</th>\n",
       "      <td>3</td>\n",
       "      <td>750.0</td>\n",
       "      <td>4</td>\n",
       "      <td>2</td>\n",
       "      <td>2</td>\n",
       "      <td>2</td>\n",
       "      <td>1221500</td>\n",
       "      <td>0</td>\n",
       "      <td>0</td>\n",
       "      <td>0</td>\n",
       "      <td>0</td>\n",
       "      <td>1</td>\n",
       "      <td>2.0</td>\n",
       "      <td>187.5</td>\n",
       "      <td>375.0</td>\n",
       "    </tr>\n",
       "    <tr>\n",
       "      <th>4</th>\n",
       "      <td>4</td>\n",
       "      <td>742.0</td>\n",
       "      <td>4</td>\n",
       "      <td>1</td>\n",
       "      <td>2</td>\n",
       "      <td>2</td>\n",
       "      <td>1141000</td>\n",
       "      <td>0</td>\n",
       "      <td>0</td>\n",
       "      <td>0</td>\n",
       "      <td>1</td>\n",
       "      <td>0</td>\n",
       "      <td>4.0</td>\n",
       "      <td>185.5</td>\n",
       "      <td>742.0</td>\n",
       "    </tr>\n",
       "  </tbody>\n",
       "</table>\n",
       "</div>"
      ],
      "text/plain": [
       "   House ID  House Area (sqm)  No. of Bedrooms  No. of Toilets  Stories  \\\n",
       "0         0             742.0                4               2        3   \n",
       "1         1             896.0                4               4        4   \n",
       "2         2             996.0                3               2        2   \n",
       "3         3             750.0                4               2        2   \n",
       "4         4             742.0                4               1        2   \n",
       "\n",
       "   Renovation Status  Price ($)  City_Boston  City_Chicago  City_Denver  \\\n",
       "0                  2    1330000            0             1            0   \n",
       "1                  2    1225000            0             0            1   \n",
       "2                  1    1225000            0             1            0   \n",
       "3                  2    1221500            0             0            0   \n",
       "4                  2    1141000            0             0            0   \n",
       "\n",
       "   City_New York  City_Seattle  BedroomToiletRatio  Area per Bedroom  \\\n",
       "0              0             0                 2.0             185.5   \n",
       "1              0             0                 1.0             224.0   \n",
       "2              0             0                 1.5             332.0   \n",
       "3              0             1                 2.0             187.5   \n",
       "4              1             0                 4.0             185.5   \n",
       "\n",
       "   Area per Toilet  \n",
       "0            371.0  \n",
       "1            224.0  \n",
       "2            498.0  \n",
       "3            375.0  \n",
       "4            742.0  "
      ]
     },
     "execution_count": 21,
     "metadata": {},
     "output_type": "execute_result"
    }
   ],
   "source": [
    "# calculate the Area per Toilet by dividing the House Area by the No. of Toilets = Average area per toilet\n",
    "housing_df['Area per Toilet'] = housing_df['House Area (sqm)'] / housing_df['No. of Toilets']\n",
    "\n",
    "# display output\n",
    "housing_df.head(5)"
   ]
  },
  {
   "cell_type": "markdown",
   "id": "9b169526-5896-4ffc-af44-dc55c0409f12",
   "metadata": {},
   "source": [
    "- Tidy up order of columns"
   ]
  },
  {
   "cell_type": "code",
   "execution_count": 22,
   "id": "c8dad8ae-6044-4176-a927-a1cb7396e3ed",
   "metadata": {},
   "outputs": [
    {
     "data": {
      "text/html": [
       "<div>\n",
       "<style scoped>\n",
       "    .dataframe tbody tr th:only-of-type {\n",
       "        vertical-align: middle;\n",
       "    }\n",
       "\n",
       "    .dataframe tbody tr th {\n",
       "        vertical-align: top;\n",
       "    }\n",
       "\n",
       "    .dataframe thead th {\n",
       "        text-align: right;\n",
       "    }\n",
       "</style>\n",
       "<table border=\"1\" class=\"dataframe\">\n",
       "  <thead>\n",
       "    <tr style=\"text-align: right;\">\n",
       "      <th></th>\n",
       "      <th>House ID</th>\n",
       "      <th>House Area (sqm)</th>\n",
       "      <th>No. of Bedrooms</th>\n",
       "      <th>No. of Toilets</th>\n",
       "      <th>BedroomToiletRatio</th>\n",
       "      <th>Area per Bedroom</th>\n",
       "      <th>Area per Toilet</th>\n",
       "      <th>Stories</th>\n",
       "      <th>Renovation Status</th>\n",
       "      <th>City_Boston</th>\n",
       "      <th>City_Chicago</th>\n",
       "      <th>City_Denver</th>\n",
       "      <th>City_New York</th>\n",
       "      <th>City_Seattle</th>\n",
       "      <th>Price ($)</th>\n",
       "    </tr>\n",
       "  </thead>\n",
       "  <tbody>\n",
       "    <tr>\n",
       "      <th>0</th>\n",
       "      <td>0</td>\n",
       "      <td>742.0</td>\n",
       "      <td>4</td>\n",
       "      <td>2</td>\n",
       "      <td>2.0</td>\n",
       "      <td>185.5</td>\n",
       "      <td>371.0</td>\n",
       "      <td>3</td>\n",
       "      <td>2</td>\n",
       "      <td>0</td>\n",
       "      <td>1</td>\n",
       "      <td>0</td>\n",
       "      <td>0</td>\n",
       "      <td>0</td>\n",
       "      <td>1330000</td>\n",
       "    </tr>\n",
       "    <tr>\n",
       "      <th>1</th>\n",
       "      <td>1</td>\n",
       "      <td>896.0</td>\n",
       "      <td>4</td>\n",
       "      <td>4</td>\n",
       "      <td>1.0</td>\n",
       "      <td>224.0</td>\n",
       "      <td>224.0</td>\n",
       "      <td>4</td>\n",
       "      <td>2</td>\n",
       "      <td>0</td>\n",
       "      <td>0</td>\n",
       "      <td>1</td>\n",
       "      <td>0</td>\n",
       "      <td>0</td>\n",
       "      <td>1225000</td>\n",
       "    </tr>\n",
       "    <tr>\n",
       "      <th>2</th>\n",
       "      <td>2</td>\n",
       "      <td>996.0</td>\n",
       "      <td>3</td>\n",
       "      <td>2</td>\n",
       "      <td>1.5</td>\n",
       "      <td>332.0</td>\n",
       "      <td>498.0</td>\n",
       "      <td>2</td>\n",
       "      <td>1</td>\n",
       "      <td>0</td>\n",
       "      <td>1</td>\n",
       "      <td>0</td>\n",
       "      <td>0</td>\n",
       "      <td>0</td>\n",
       "      <td>1225000</td>\n",
       "    </tr>\n",
       "    <tr>\n",
       "      <th>3</th>\n",
       "      <td>3</td>\n",
       "      <td>750.0</td>\n",
       "      <td>4</td>\n",
       "      <td>2</td>\n",
       "      <td>2.0</td>\n",
       "      <td>187.5</td>\n",
       "      <td>375.0</td>\n",
       "      <td>2</td>\n",
       "      <td>2</td>\n",
       "      <td>0</td>\n",
       "      <td>0</td>\n",
       "      <td>0</td>\n",
       "      <td>0</td>\n",
       "      <td>1</td>\n",
       "      <td>1221500</td>\n",
       "    </tr>\n",
       "    <tr>\n",
       "      <th>4</th>\n",
       "      <td>4</td>\n",
       "      <td>742.0</td>\n",
       "      <td>4</td>\n",
       "      <td>1</td>\n",
       "      <td>4.0</td>\n",
       "      <td>185.5</td>\n",
       "      <td>742.0</td>\n",
       "      <td>2</td>\n",
       "      <td>2</td>\n",
       "      <td>0</td>\n",
       "      <td>0</td>\n",
       "      <td>0</td>\n",
       "      <td>1</td>\n",
       "      <td>0</td>\n",
       "      <td>1141000</td>\n",
       "    </tr>\n",
       "  </tbody>\n",
       "</table>\n",
       "</div>"
      ],
      "text/plain": [
       "   House ID  House Area (sqm)  No. of Bedrooms  No. of Toilets  \\\n",
       "0         0             742.0                4               2   \n",
       "1         1             896.0                4               4   \n",
       "2         2             996.0                3               2   \n",
       "3         3             750.0                4               2   \n",
       "4         4             742.0                4               1   \n",
       "\n",
       "   BedroomToiletRatio  Area per Bedroom  Area per Toilet  Stories  \\\n",
       "0                 2.0             185.5            371.0        3   \n",
       "1                 1.0             224.0            224.0        4   \n",
       "2                 1.5             332.0            498.0        2   \n",
       "3                 2.0             187.5            375.0        2   \n",
       "4                 4.0             185.5            742.0        2   \n",
       "\n",
       "   Renovation Status  City_Boston  City_Chicago  City_Denver  City_New York  \\\n",
       "0                  2            0             1            0              0   \n",
       "1                  2            0             0            1              0   \n",
       "2                  1            0             1            0              0   \n",
       "3                  2            0             0            0              0   \n",
       "4                  2            0             0            0              1   \n",
       "\n",
       "   City_Seattle  Price ($)  \n",
       "0             0    1330000  \n",
       "1             0    1225000  \n",
       "2             0    1225000  \n",
       "3             1    1221500  \n",
       "4             0    1141000  "
      ]
     },
     "execution_count": 22,
     "metadata": {},
     "output_type": "execute_result"
    }
   ],
   "source": [
    "# define desired order of columns\n",
    "desired_order = ['House ID', 'House Area (sqm)', 'No. of Bedrooms', 'No. of Toilets', 'BedroomToiletRatio', 'Area per Bedroom', 'Area per Toilet', 'Stories', 'Renovation Status', 'City_Boston', 'City_Chicago', 'City_Denver', 'City_New York', 'City_Seattle', 'Price ($)']\n",
    "\n",
    "# reindex df\n",
    "housing_df = housing_df.reindex(columns=desired_order)\n",
    "\n",
    "# display output\n",
    "housing_df.head(5)"
   ]
  },
  {
   "cell_type": "markdown",
   "id": "1ff43628-0f56-4aa4-82de-cefbb56d2f19",
   "metadata": {},
   "source": [
    "- By adding these new features which are relevant to the analysis, it will give the machine-learning model more insights to the housing dataset, hence improving or enhancing the predictive power of the models!"
   ]
  },
  {
   "cell_type": "markdown",
   "id": "945be249-f6c9-44a8-9e60-0bda17106c43",
   "metadata": {},
   "source": [
    "<h1><center>Data Visualization</center></h1>"
   ]
  },
  {
   "cell_type": "markdown",
   "id": "8daefab2-7659-42f9-8b12-1a2988e2ca9b",
   "metadata": {},
   "source": [
    "<h3>Explore <b>Target Variable</b>: Price ($)</h3>"
   ]
  },
  {
   "cell_type": "code",
   "execution_count": 23,
   "id": "b7bed388-28be-475b-aeea-76cad231fbdb",
   "metadata": {},
   "outputs": [
    {
     "data": {
      "image/png": "[encoded data removed]",
      "text/plain": [
       "<Figure size 792x360 with 1 Axes>"
      ]
     },
     "metadata": {},
     "output_type": "display_data"
    }
   ],
   "source": [
    "# create and set figure size\n",
    "plt.figure(figsize=(11,5))\n",
    "\n",
    "# plot histogram\n",
    "plt.hist(housing_df['Price ($)'], bins=15, edgecolor='black')\n",
    "\n",
    "# graph labels, title\n",
    "plt.xlabel('Price ($)', fontweight='bold', fontsize=13)\n",
    "plt.ylabel('Frequency', fontweight='bold', fontsize=13)\n",
    "plt.title('Distribution of Housing Prices ($)', fontweight='bold', fontsize=14)\n",
    "# remove scientific notation\n",
    "plt.ticklabel_format(style='plain', axis='x')\n",
    "\n",
    "# display graph\n",
    "plt.show()"
   ]
  },
  {
   "cell_type": "markdown",
   "id": "e1acbd7c-87f0-4f72-b203-8af78b6b6c09",
   "metadata": {},
   "source": [
    "- The distribution of the target variable, Price ($), is skewed to the right (positive skew).\n",
    "- This means that majority of the housing prices are concentrated towards the lower end of the price range (preferably around 400,000.\n",
    "- There are fewer (minority) houses with high prices."
   ]
  },
  {
   "cell_type": "markdown",
   "id": "a88c2448-6b55-4bd2-a412-fcc4de1930f5",
   "metadata": {},
   "source": [
    "<h3>Explore <b>Target-Feature</b> Relationships</h3>"
   ]
  },
  {
   "cell_type": "markdown",
   "id": "83384311-be69-4849-932f-5d86ea89971e",
   "metadata": {},
   "source": [
    "<h4>1. Correlation of various numerical features in df</h4>"
   ]
  },
  {
   "cell_type": "code",
   "execution_count": 24,
   "id": "dacfcad4-8e6a-424e-b41a-6f3ad9d4099c",
   "metadata": {},
   "outputs": [
    {
     "data": {
      "image/png": "[encoded data removed]",
      "text/plain": [
       "<Figure size 792x432 with 2 Axes>"
      ]
     },
     "metadata": {},
     "output_type": "display_data"
    }
   ],
   "source": [
    "# define variables \n",
    "vars = ['Price ($)', 'House Area (sqm)', 'No. of Bedrooms', 'No. of Toilets', 'BedroomToiletRatio', 'Area per Bedroom', 'Area per Toilet', 'Stories'] \n",
    "\n",
    "# create and set figure size\n",
    "plt.figure(figsize = (11,6))\n",
    "\n",
    "# correlation plot\n",
    "corr = housing_df[vars].corr()\n",
    "sns.heatmap(corr, xticklabels=corr.columns, yticklabels=corr.columns, linewidths=.1, vmin=-1.0, cmap='coolwarm', annot=True)\n",
    "\n",
    "# graph title\n",
    "plt.title('Correlation Heatmap of Numerical columns', fontweight='bold', fontsize=16)\n",
    "# display graph\n",
    "plt.show()"
   ]
  },
  {
   "cell_type": "markdown",
   "id": "eb18aced-e0bf-4217-a63e-e90474b54f80",
   "metadata": {},
   "source": [
    "- Every variable is correlated with each other.\n",
    "- <b>Patterns</b>: \n",
    "    - Overall, there is a mix of weak and strong correlations, but majority seems to be towards the positive side. \n",
    "- <b>Strengths</b>: \n",
    "    - Correlations between variables are mostly between weak to moderate, with only a few exceptions of strong. \n",
    "- <b>Directions</b>: \n",
    "    - There are more positive correlations than weak correlations. \n",
    "- <b>Outliers/Interesting points</b>: \n",
    "    - Stories-BedroomToiletRatio: extremely weak \n",
    "    - Stories-HouseArea: extremely weak (strange as when number of stories increases, house area is expected to increase as well)."
   ]
  },
  {
   "cell_type": "markdown",
   "id": "0d3c66d5-7a70-4f3f-906e-91e85555bac6",
   "metadata": {},
   "source": [
    "<h4>2. Relationship between Cities and Housing Prices</h4>"
   ]
  },
  {
   "cell_type": "code",
   "execution_count": 25,
   "id": "608fab0e-9c91-4182-9272-6b37cd66047e",
   "metadata": {},
   "outputs": [
    {
     "data": {
      "image/png": "[encoded data removed]",
      "text/plain": [
       "<Figure size 792x648 with 1 Axes>"
      ]
     },
     "metadata": {},
     "output_type": "display_data"
    }
   ],
   "source": [
    "# define x values\n",
    "cities = ['City_Boston', 'City_Chicago', 'City_Denver', 'City_New York', 'City_Seattle']\n",
    "\n",
    "# create a new df with cities and Price\n",
    "cities_df = housing_df[cities + ['Price ($)']]\n",
    "\n",
    "# reshape the df to long format (using melt)\n",
    "cities_df = cities_df.melt(id_vars='Price ($)', value_vars=cities, var_name='City')\n",
    "\n",
    "# create and set figure size\n",
    "plt.figure(figsize=(11,9))\n",
    "\n",
    "# plot violinplot\n",
    "sns.boxplot(data=cities_df, x='City', y='Price ($)')\n",
    "\n",
    "# graph labels\n",
    "plt.xlabel('City', fontsize=12, fontweight='bold')\n",
    "plt.ylabel('Price($)', fontsize=12, fontweight='bold')\n",
    "# graph title\n",
    "plt.title('Distribution of Housing Prices ($) by City')\n",
    "# remove scientific notation\n",
    "plt.ticklabel_format(style='plain', axis='y')\n",
    "# rotate x-axis labels\n",
    "plt.xticks(rotation=45)\n",
    "# display graphs\n",
    "plt.show()"
   ]
  },
  {
   "cell_type": "markdown",
   "id": "092df749-8ad6-432c-8003-33d22db12fe3",
   "metadata": {},
   "source": [
    "<h4>3. Relationship between Renovation Status and Housing Prices</h4>"
   ]
  },
  {
   "cell_type": "code",
   "execution_count": 26,
   "id": "02fe12c9-3ebd-48e6-83ee-f2ba30827f68",
   "metadata": {},
   "outputs": [
    {
     "data": {
      "image/png": "[encoded data removed]",
      "text/plain": [
       "<Figure size 720x504 with 1 Axes>"
      ]
     },
     "metadata": {},
     "output_type": "display_data"
    }
   ],
   "source": [
    "# create and set figure size\n",
    "plt.figure(figsize=(10,7))\n",
    "\n",
    "# plot barplot\n",
    "sns.barplot(x='Renovation Status', y='Price ($)', data=housing_df)\n",
    "\n",
    "# graph labels\n",
    "plt.xlabel('Renovation Status', fontsize=13, fontweight='bold')\n",
    "plt.ylabel('Price ($)', fontsize=13, fontweight='bold')\n",
    "# graph title\n",
    "plt.title('Housing Price ($) by Renovation Status', fontsize=14, fontweight='bold')\n",
    "# display graph\n",
    "plt.show()"
   ]
  },
  {
   "cell_type": "markdown",
   "id": "b2b58a4c-b2c1-4932-9134-dd0d541e133c",
   "metadata": {},
   "source": [
    "- The bar graphs show that as quality of house increases (becomes better), the price of house will increase as well.\n",
    "- This makes sense as a fully-furnished house of better quality, should logically cost higher than that of a unfurnished/semi-furnished house."
   ]
  },
  {
   "cell_type": "markdown",
   "id": "3aa06ffe-3534-4411-ae75-77fd3bfedad6",
   "metadata": {},
   "source": [
    "<h4>4. Relationship between No. of Bedrooms, No. of Toilets, BedroomToiletRatio against Housing Price</h4>"
   ]
  },
  {
   "cell_type": "code",
   "execution_count": 27,
   "id": "a77aab05-3264-4e8f-9e99-0bb520d8947f",
   "metadata": {},
   "outputs": [
    {
     "data": {
      "image/png": "[encoded data removed]",
      "text/plain": [
       "<Figure size 720x432 with 1 Axes>"
      ]
     },
     "metadata": {},
     "output_type": "display_data"
    }
   ],
   "source": [
    "# create figure and axes\n",
    "fig, ax = plt.subplots(figsize=(10, 6))\n",
    "\n",
    "# plot No. of Bedrooms against Price\n",
    "ax.scatter(housing_df['No. of Bedrooms'], housing_df['Price ($)'], label='No. of Bedrooms')\n",
    "\n",
    "# plot No. of Toilets against Price\n",
    "ax.scatter(housing_df['No. of Toilets'], housing_df['Price ($)'], label='No. of Toilets')\n",
    "\n",
    "# plot BedroomToiletRatio against Price\n",
    "ax.scatter(housing_df['BedroomToiletRatio'], housing_df['Price ($)'], label='BedroomToiletRatio')\n",
    "\n",
    "# graph labels\n",
    "plt.xlabel('House Features', fontsize=13, fontweight='bold')\n",
    "plt.ylabel('Price ($)', fontsize=13, fontweight='bold')\n",
    "# graph title\n",
    "plt.title('House Features vs. Price ($)', fontsize=14, fontweight='bold')\n",
    "# legend\n",
    "plt.legend()\n",
    "# remove scientific notation\n",
    "plt.ticklabel_format(style='plain', axis='y')\n",
    "# display graph\n",
    "plt.show()"
   ]
  },
  {
   "cell_type": "markdown",
   "id": "91bf9402-32dd-48d2-b213-27f48e3dc408",
   "metadata": {},
   "source": [
    "- <b>BedroomToiletRatio against Price</b> (green data points):\n",
    "    - It is evident that as BedroomToiletRatio increases, price of house generally decreases. \n",
    "    - This makes sense as if there are more bedrooms than toilets, convenience of bathrooms decreases, hence valuability of house decreases.\n",
    "- <b>No. of Bedrooms against Price</b> (blue data points):\n",
    "    - It is seen that as number of bedrooms increases from 3 to 4, house prices generally increases. \n",
    "    - Interestingly, as number of bedrooms increases to 5 and 6 house prices show a drop in price. \n",
    "    - This observation could be due to other factors such as BedroomToiletRatio or even the city the house is located in. \n",
    "- <b>No. of Toilets against Price</b> (orange data points):\n",
    "    - It is generally seen that as number of toilets increases, price of house also increases.\n",
    "    - This makes sense as with more bathroom convenience, houses will be more valuable and hence more expensive."
   ]
  },
  {
   "cell_type": "markdown",
   "id": "ce4dfa61-6698-43db-b0e0-72ba625e2954",
   "metadata": {},
   "source": [
    "<h1><center>Building Regression Models</center></h1>"
   ]
  },
  {
   "cell_type": "markdown",
   "id": "82bdceb3-a042-4ca0-921a-1d2c504959b5",
   "metadata": {},
   "source": [
    "<h2>Linear Regression</h2>"
   ]
  },
  {
   "cell_type": "code",
   "execution_count": 28,
   "id": "d607f1f5-f5c7-4945-97a1-89b89bb2edf6",
   "metadata": {},
   "outputs": [
    {
     "name": "stdout",
     "output_type": "stream",
     "text": [
      "---- Linear Regression Model Results: ----\n",
      "------------------------------------------\n",
      "model intercept:  781670.5354002242 \n",
      "\n",
      "model coefficient:\n",
      " [  -979.7752997     308.10182032  -5320.69506276 -36169.38965297\n",
      "  -3461.29644556    -86.70679289   -285.89435852   9533.17636816\n",
      "  -7518.5999848   11314.90573957  -1259.7401214  -19087.13310442\n",
      "  -4529.83155869  13561.79904494] \n",
      "\n",
      "model MSE:  4932004658.546523 \n",
      "\n",
      "model RMSE:  70228.23263151739 \n",
      "\n",
      "model r2:  0.8605384036498855 \n",
      "\n",
      "model MAE:  36354.44527428091 \n",
      "\n",
      "model MAPE:  6.897419823104987\n"
     ]
    }
   ],
   "source": [
    "# Linear Regression\n",
    "from sklearn.linear_model import LinearRegression\n",
    "from sklearn.model_selection import train_test_split\n",
    "from sklearn.metrics import r2_score, mean_squared_error, mean_absolute_error\n",
    "\n",
    "# define X and y for easy identification\n",
    "# features\n",
    "X = housing_df.drop('Price ($)', axis=1)\n",
    "# target variable\n",
    "y = housing_df['Price ($)']\n",
    "\n",
    "# split the data into train and test sets \n",
    "X_train, X_test, y_train, y_test = train_test_split(X, y, test_size=0.4, random_state=0)\n",
    "\n",
    "# further split the train set into a new train and validation sets\n",
    "X_train, X_val, y_train, y_val = train_test_split(X_train, y_train, test_size=0.4, random_state=0)\n",
    "    \n",
    "# create Linear Regression model\n",
    "LR = LinearRegression()\n",
    "\n",
    "# fit LR model on training data\n",
    "LR.fit(X_train, y_train)\n",
    "\n",
    "# make predictions on validation data \n",
    "expected1 = y_val\n",
    "predicted1 = LR.predict(X_val)\n",
    "\n",
    "# summarize the fit of the model\n",
    "# y = a1x1 + a2x2 + anxn + b \n",
    "# mean squared error (MSE)\n",
    "mse1 = mean_squared_error(expected1,predicted1) # lower MSE suggests better model performance\n",
    "\n",
    "# root mean squared error (RMSE)\n",
    "rmse1 = np.sqrt(mse1)\n",
    "\n",
    "# R square, coefficient of determination\n",
    "r2_1 = r2_score(expected1, predicted1)\n",
    "\n",
    "# mean absolute error (MAE)\n",
    "mae1 = mean_absolute_error(expected1, predicted1)\n",
    "\n",
    "# mean absolute percentage error (MAPE)\n",
    "mape1 = np.mean(np.abs((expected1 - predicted1) / expected1)) * 100\n",
    "\n",
    "print('---- Linear Regression Model Results: ----\\n------------------------------------------')\n",
    "\n",
    "# b\n",
    "print('model intercept: ', LR.intercept_, '\\n')\n",
    "# a\n",
    "print('model coefficient:\\n', LR.coef_, '\\n')\n",
    "# mse\n",
    "print('model MSE: ', mse1, '\\n')\n",
    "# rmse\n",
    "print('model RMSE: ', rmse1, '\\n')\n",
    "# r2\n",
    "print('model r2: ', r2_1, '\\n')\n",
    "# mae\n",
    "print('model MAE: ', mae1, '\\n')\n",
    "# mape\n",
    "print('model MAPE: ', mape1)"
   ]
  },
  {
   "cell_type": "markdown",
   "id": "245d85e5-7bdb-4d44-81bd-feac9d5a1c04",
   "metadata": {},
   "source": [
    "<h2>Decision Tree Regression</h2>"
   ]
  },
  {
   "cell_type": "code",
   "execution_count": 29,
   "id": "688116ea-e6e1-4b32-b1f4-7c0085eae5b4",
   "metadata": {},
   "outputs": [
    {
     "name": "stdout",
     "output_type": "stream",
     "text": [
      "---- Decision Tree Regressor Model Results: ----\n",
      "------------------------------------------\n",
      "for max depth = 2, MSE is 5330019916.33\n",
      "for max depth = 2, RMSE is 73006.99\n",
      "for max depth = 2, r2 is 0.85\n",
      "for max depth = 2, MAE is 48154.05\n",
      "for max depth = 2, MAPE is 10.81\n",
      "\n",
      "\n",
      "for max depth = 5, MSE is 166827742.75\n",
      "for max depth = 5, RMSE is 12916.18\n",
      "for max depth = 5, r2 is 1.00\n",
      "for max depth = 5, MAE is 7482.12\n",
      "for max depth = 5, MAPE is 1.69\n",
      "\n",
      "\n",
      "for max depth = 10, MSE is 128939816.77\n",
      "for max depth = 10, RMSE is 11355.17\n",
      "for max depth = 10, r2 is 1.00\n",
      "for max depth = 10, MAE is 4633.09\n",
      "for max depth = 10, MAPE is 0.97\n",
      "\n",
      "\n",
      "for max depth = 17, MSE is 139913898.66\n",
      "for max depth = 17, RMSE is 11828.52\n",
      "for max depth = 17, r2 is 1.00\n",
      "for max depth = 17, MAE is 4926.98\n",
      "for max depth = 17, MAPE is 1.01\n",
      "\n",
      "\n",
      "for max depth = 25, MSE is 134170473.26\n",
      "for max depth = 25, RMSE is 11583.20\n",
      "for max depth = 25, r2 is 1.00\n",
      "for max depth = 25, MAE is 4766.68\n",
      "for max depth = 25, MAPE is 0.97\n",
      "\n",
      "\n"
     ]
    }
   ],
   "source": [
    "# Decision Tree Regression \n",
    "# Does not require feature scaling as it is not affected by scale of features\n",
    "from sklearn.tree import DecisionTreeRegressor\n",
    "from sklearn.model_selection import train_test_split\n",
    "from sklearn.metrics import r2_score, mean_squared_error, mean_absolute_error\n",
    "\n",
    "# define X and y for easy identification\n",
    "# features\n",
    "X = housing_df.drop('Price ($)', axis=1)\n",
    "# target variable\n",
    "y = housing_df['Price ($)']\n",
    "\n",
    "# split the data into train and test sets \n",
    "X_train, X_test, y_train, y_test = train_test_split(X, y, test_size=0.4, random_state=0)\n",
    "\n",
    "# further split the train set into a new train and validation sets\n",
    "X_train, X_val, y_train, y_val = train_test_split(X_train, y_train, test_size=0.4, random_state=0)\n",
    "\n",
    "# see which gives best results (hyperparameters)\n",
    "all_depths = [2, 5, 10, 17, 25]\n",
    "all_mse = []\n",
    "all_rmse = []\n",
    "all_r2 = []\n",
    "all_mae = []\n",
    "all_mape = []\n",
    "\n",
    "print('---- Decision Tree Regressor Model Results: ----\\n------------------------------------------')\n",
    "\n",
    "for depth in all_depths: \n",
    "    # create Decision Tree Regression model\n",
    "    DTR = DecisionTreeRegressor(max_depth=depth)\n",
    "    \n",
    "    # fit DTR model on training data\n",
    "    DTR.fit(X_train, y_train)\n",
    "\n",
    "    # make predictions on validation data \n",
    "    expected2 = y_val\n",
    "    predicted2 = DTR.predict(X_val) \n",
    "    \n",
    "    # mean squared error (MSE)\n",
    "    mse2 = mean_squared_error(expected2,predicted2) \n",
    "    all_mse.append(mse2)\n",
    "\n",
    "    # root mean squared error (RMSE)\n",
    "    rmse2 = np.sqrt(mse2)\n",
    "    all_rmse.append(rmse2)\n",
    "\n",
    "    # R square, coefficient of determination\n",
    "    r2_2 = r2_score(expected2, predicted2)\n",
    "    all_r2.append(r2_2)\n",
    "\n",
    "    # mean absolute error (MAE)\n",
    "    mae2 = mean_absolute_error(expected2, predicted2)\n",
    "    all_mae.append(mae2)\n",
    "\n",
    "    # mean absolute percentage error (MAPE)\n",
    "    mape2 = np.mean(np.abs((expected2 - predicted2) / expected2)) * 100\n",
    "    all_mape.append(mape2)\n",
    "    \n",
    "    # summarize the fit of the model\n",
    "    print('for max depth = {}, MSE is {:.2f}'.format(depth, mse2))\n",
    "    print('for max depth = {}, RMSE is {:.2f}'.format(depth, rmse2))\n",
    "    print('for max depth = {}, r2 is {:.2f}'.format(depth, r2_2))\n",
    "    print('for max depth = {}, MAE is {:.2f}'.format(depth, mae2))\n",
    "    print('for max depth = {}, MAPE is {:.2f}'.format(depth, mape2))\n",
    "    print('\\n')"
   ]
  },
  {
   "cell_type": "markdown",
   "id": "37918386-bde8-462e-b037-50e9d7b9fbb9",
   "metadata": {},
   "source": [
    "- From the above evaluation metrics for each depth value, it is seen that r2 value of all is perfect 1.0 except for max_depth=2."
   ]
  },
  {
   "cell_type": "markdown",
   "id": "3742c9be-0ff4-433b-a36f-d9616e79befd",
   "metadata": {},
   "source": [
    "<h4>Compare RMSE to see which max_depth value is best</h4>"
   ]
  },
  {
   "cell_type": "code",
   "execution_count": 30,
   "id": "c95b4d2f-6a81-4038-a522-31b6bd5757c6",
   "metadata": {},
   "outputs": [
    {
     "data": {
      "image/png": "[encoded data removed]",
      "text/plain": [
       "<Figure size 432x288 with 1 Axes>"
      ]
     },
     "metadata": {},
     "output_type": "display_data"
    }
   ],
   "source": [
    "# plot graph\n",
    "plt.plot(all_depths, all_rmse, 'ro--')\n",
    "# graph labels\n",
    "plt.xlabel('Max Depth', fontsize=13, fontweight='bold')\n",
    "plt.ylabel('RMSE', fontsize=13, fontweight='bold')\n",
    "# graph title\n",
    "plt.title('Decision Tree Model Performance', fontsize=14, fontweight='bold')\n",
    "# display graph\n",
    "plt.show()"
   ]
  },
  {
   "cell_type": "markdown",
   "id": "caa329eb-0f2e-40cb-97f3-eaf9f91327c4",
   "metadata": {},
   "source": [
    "- Since a lower RMSE indicates better model performance, with smaller prediction errors, from graph, max_depth=10 yields best results."
   ]
  },
  {
   "cell_type": "markdown",
   "id": "4953f3d2-2fa4-4fc6-ab3b-8e1f00031401",
   "metadata": {},
   "source": [
    "<h4>Compare MAPE to see which max_depth value is best</h4> "
   ]
  },
  {
   "cell_type": "code",
   "execution_count": 31,
   "id": "1317f095-9bf5-4c5d-9c7d-a4a1a8adc6cf",
   "metadata": {},
   "outputs": [
    {
     "data": {
      "image/png": "[encoded data removed]",
      "text/plain": [
       "<Figure size 432x288 with 1 Axes>"
      ]
     },
     "metadata": {},
     "output_type": "display_data"
    }
   ],
   "source": [
    "# plot graph\n",
    "plt.plot(all_depths, all_mape, 'bo--')\n",
    "# graph labels\n",
    "plt.xlabel('Max Depth', fontsize=13, fontweight='bold')\n",
    "plt.ylabel('MAPE', fontsize=13, fontweight='bold')\n",
    "# graph title\n",
    "plt.title('Decision Tree Model Performance', fontsize=14, fontweight='bold')\n",
    "# display graph\n",
    "plt.show()"
   ]
  },
  {
   "cell_type": "markdown",
   "id": "1b32fb6e-24da-404f-9bd7-37534540183a",
   "metadata": {},
   "source": [
    "- Since lower MAPE values indicate better model performance, with smaller percentage errors, from graph, max_depth=10 yields best model performance results."
   ]
  },
  {
   "cell_type": "markdown",
   "id": "eef05bec-12df-4f23-a40f-de517e401cfc",
   "metadata": {},
   "source": [
    "- Therefore, we choose max_depth=10!"
   ]
  },
  {
   "cell_type": "code",
   "execution_count": 32,
   "id": "7ca813f7-f708-40d7-8e52-791a48c3adcc",
   "metadata": {},
   "outputs": [
    {
     "name": "stdout",
     "output_type": "stream",
     "text": [
      "---- Decision Tree Regressor Model Results (max_depth=10): ----\n",
      "------------------------------------------\n",
      "model MSE:  135704061.04580152 \n",
      "\n",
      "model RMSE:  11649.20860169486 \n",
      "\n",
      "model r2:  0.9961627155092311 \n",
      "\n",
      "model MAE:  4638.435114503817 \n",
      "\n",
      "model MAPE:  0.9227955095561841\n"
     ]
    }
   ],
   "source": [
    "# Decision Tree Regression (Final one)\n",
    "# Does not require feature scaling as it is not affected by scale of features\n",
    "\n",
    "# split the data into train and test sets \n",
    "X_train, X_test, y_train, y_test = train_test_split(X, y, test_size=0.4, random_state=0)\n",
    "\n",
    "# further split the train set into a new train and validation sets\n",
    "X_train, X_val, y_train, y_val = train_test_split(X_train, y_train, test_size=0.4, random_state=0)\n",
    "\n",
    "# create Decision Tree Regression model\n",
    "DTR = DecisionTreeRegressor(max_depth=10)\n",
    "    \n",
    "# fit DTR model on training data\n",
    "DTR.fit(X_train, y_train)\n",
    "\n",
    "# make predictions on validation data \n",
    "expected2 = y_val\n",
    "predicted2 = DTR.predict(X_val) \n",
    "    \n",
    "# mean squared error (MSE)\n",
    "mse2 = mean_squared_error(expected2,predicted2) \n",
    "\n",
    "# root mean squared error (RMSE)\n",
    "rmse2 = np.sqrt(mse2)\n",
    "\n",
    "# R square, coefficient of determination\n",
    "r2_2 = r2_score(expected2, predicted2)\n",
    "\n",
    "# mean absolute error (MAE)\n",
    "mae2 = mean_absolute_error(expected2, predicted2)\n",
    "\n",
    "# mean absolute percentage error (MAPE)\n",
    "mape2 = np.mean(np.abs((expected2 - predicted2) / expected2)) * 100\n",
    "\n",
    "print('---- Decision Tree Regressor Model Results (max_depth=10): ----\\n------------------------------------------')\n",
    "    \n",
    "# summarize the fit of the model\n",
    "# mse\n",
    "print('model MSE: ', mse2, '\\n')\n",
    "# rmse\n",
    "print('model RMSE: ', rmse2, '\\n')\n",
    "# r2\n",
    "print('model r2: ', r2_2, '\\n')\n",
    "# mae\n",
    "print('model MAE: ', mae2, '\\n')\n",
    "# mape\n",
    "print('model MAPE: ', mape2)"
   ]
  },
  {
   "cell_type": "markdown",
   "id": "b10ab050-fcd5-4b41-afd6-6e950dabc82a",
   "metadata": {},
   "source": [
    "<h2>Random Forest Regression</h2>"
   ]
  },
  {
   "cell_type": "code",
   "execution_count": 33,
   "id": "a1f7d168-d288-4ec3-a56a-3e667620a947",
   "metadata": {},
   "outputs": [
    {
     "name": "stdout",
     "output_type": "stream",
     "text": [
      "---- Random Forest Regressor Model Results: ----\n",
      "------------------------------------------\n",
      "model MSE:  394652629.7234902 \n",
      "\n",
      "model RMSE:  19865.865944465902 \n",
      "\n",
      "model r2:  0.9888404635527598 \n",
      "\n",
      "model MAE:  5743.37816793893 \n",
      "\n",
      "model MAPE:  0.9898212754156159\n"
     ]
    }
   ],
   "source": [
    "# Random Forest Regression\n",
    "# Does not require feature scaling as it is based on decision trees and not scale of features\n",
    "from sklearn.ensemble import RandomForestRegressor\n",
    "from sklearn.model_selection import train_test_split\n",
    "from sklearn.metrics import r2_score, mean_squared_error, mean_absolute_error\n",
    "\n",
    "# define X and y for easy identification\n",
    "# features\n",
    "X = housing_df.drop('Price ($)', axis=1)\n",
    "# target variable\n",
    "y = housing_df['Price ($)']\n",
    "\n",
    "# split the data into train and test sets \n",
    "X_train, X_test, y_train, y_test = train_test_split(X, y, test_size=0.4, random_state=0)\n",
    "\n",
    "# further split the train set into a new train and validation sets\n",
    "X_train, X_val, y_train, y_val = train_test_split(X_train, y_train, test_size=0.4, random_state=0)\n",
    "    \n",
    "# create Random Forest Regression model\n",
    "RF = RandomForestRegressor(n_estimators=100, random_state=10)\n",
    "\n",
    "# fit RF model on training data\n",
    "RF.fit(X_train, y_train)\n",
    "\n",
    "# make predictions on validation data \n",
    "expected3 = y_val\n",
    "predicted3 = RF.predict(X_val)\n",
    "\n",
    "print('---- Random Forest Regressor Model Results: ----\\n------------------------------------------')\n",
    "\n",
    "# summarize the fit of the model\n",
    "# mean squared error (MSE)\n",
    "mse3 = mean_squared_error(expected3,predicted3)\n",
    "\n",
    "# root mean squared error (RMSE)\n",
    "rmse3 = np.sqrt(mse3)\n",
    "\n",
    "# R square, coefficient of determination\n",
    "r2_3 = r2_score(expected3, predicted3)\n",
    "\n",
    "# mean absolute error (MAE)\n",
    "mae3 = mean_absolute_error(expected3, predicted3)\n",
    "\n",
    "# mean absolute percentage error (MAPE)\n",
    "mape3 = np.mean(np.abs((expected3 - predicted3) / expected3)) * 100\n",
    "\n",
    "# mse\n",
    "print('model MSE: ', mse3, '\\n')\n",
    "# rmse\n",
    "print('model RMSE: ', rmse3, '\\n')\n",
    "# r2\n",
    "print('model r2: ', r2_3, '\\n')\n",
    "# mae\n",
    "print('model MAE: ', mae3, '\\n')\n",
    "# mape\n",
    "print('model MAPE: ', mape3)"
   ]
  },
  {
   "cell_type": "markdown",
   "id": "7e0df98d-90a6-4b43-8121-1db5fd3ed94a",
   "metadata": {},
   "source": [
    "<h2>Gradient Boosting Regression</h2>"
   ]
  },
  {
   "cell_type": "code",
   "execution_count": 34,
   "id": "f3c5fd0a-db4a-4f96-9508-cf330b04b573",
   "metadata": {},
   "outputs": [
    {
     "name": "stdout",
     "output_type": "stream",
     "text": [
      "---- Gradient Boosting Regressor Model Results: ----\n",
      "------------------------------------------\n",
      "model MSE:  394652629.7234902 \n",
      "\n",
      "model RMSE:  19865.865944465902 \n",
      "\n",
      "model r2:  0.9966243976024831 \n",
      "\n",
      "model MAE:  3853.9031718291294 \n",
      "\n",
      "model MAPE:  0.7726681622577646\n"
     ]
    }
   ],
   "source": [
    "# Gradient Boosting Regression\n",
    "from sklearn.ensemble import GradientBoostingRegressor\n",
    "from sklearn.model_selection import train_test_split\n",
    "from sklearn.metrics import r2_score, mean_squared_error, mean_absolute_error\n",
    "\n",
    "# define X and y for easy identification\n",
    "# features\n",
    "X = housing_df.drop('Price ($)', axis=1)\n",
    "# target variable\n",
    "y = housing_df['Price ($)']\n",
    "\n",
    "# split the data into train and test sets \n",
    "X_train, X_test, y_train, y_test = train_test_split(X, y, test_size=0.4, random_state=0)\n",
    "\n",
    "# further split the train set into a new train and validation sets\n",
    "X_train, X_val, y_train, y_val = train_test_split(X_train, y_train, test_size=0.4, random_state=0)\n",
    "    \n",
    "# create Gradient Boosting Regression model\n",
    "GBR = GradientBoostingRegressor(n_estimators=100, random_state=0)\n",
    "\n",
    "# fit GBR model on training data\n",
    "GBR.fit(X_train, y_train)\n",
    "\n",
    "# make predictions on validation data \n",
    "expected4 = y_val\n",
    "predicted4 = GBR.predict(X_val)\n",
    "\n",
    "print('---- Gradient Boosting Regressor Model Results: ----\\n------------------------------------------')\n",
    "\n",
    "# summarize the fit of the model\n",
    "# y = a1x1 + a2x2 + anxn + b \n",
    "# mse = np.mean((predicted-expected)**2)\n",
    "mse4 = mean_squared_error(expected3,predicted3)\n",
    "\n",
    "# root mean squared error (RMSE)\n",
    "rmse4 = np.sqrt(mse4)\n",
    "\n",
    "# R square, coefficient of determination\n",
    "r2_4 = r2_score(expected4, predicted4)\n",
    "\n",
    "# mean absolute error (MAE)\n",
    "mae4 = mean_absolute_error(expected4, predicted4)\n",
    "\n",
    "# mean absolute percentage error (MAPE)\n",
    "mape4 = np.mean(np.abs((expected4 - predicted4) / expected4)) * 100\n",
    "\n",
    "# mse\n",
    "print('model MSE: ', mse4, '\\n')\n",
    "# rmse\n",
    "print('model RMSE: ', rmse4, '\\n')\n",
    "# r2\n",
    "print('model r2: ', r2_4, '\\n')\n",
    "# mae\n",
    "print('model MAE: ', mae4, '\\n')\n",
    "# mape\n",
    "print('model MAPE: ', mape4)"
   ]
  },
  {
   "cell_type": "markdown",
   "id": "b94df363-4be9-430b-876c-6720d67175ad",
   "metadata": {},
   "source": [
    "<h2>Neural Network Regression</h2>"
   ]
  },
  {
   "cell_type": "code",
   "execution_count": 35,
   "id": "357d0c9a-4524-481b-9a93-9a94ecae1605",
   "metadata": {},
   "outputs": [
    {
     "name": "stdout",
     "output_type": "stream",
     "text": [
      "---- Neural Network Regressor Model Results: ----\n",
      "------------------------------------------\n",
      "model MSE:  1856149501390.4485 \n",
      "\n",
      "model RMSE:  1362405.7770688029 \n",
      "\n",
      "model r2:  -51.48607624078528 \n",
      "\n",
      "model MAE:  1349364.6258840233 \n",
      "\n",
      "model MAPE:  314.91253750348733\n"
     ]
    }
   ],
   "source": [
    "# Neural Network Regression\n",
    "from sklearn.neural_network import MLPRegressor\n",
    "from sklearn.model_selection import train_test_split\n",
    "from sklearn.metrics import r2_score, mean_squared_error, mean_absolute_error\n",
    "from sklearn.preprocessing import StandardScaler\n",
    "from sklearn.pipeline import Pipeline\n",
    "\n",
    "# define X and y for easy identification\n",
    "# features\n",
    "X = housing_df.drop('Price ($)', axis=1)\n",
    "# target variable\n",
    "y = housing_df['Price ($)']\n",
    "\n",
    "# build the steps for the pipeline\n",
    "steps = [('scaler', StandardScaler()),         \n",
    "         ('NNR', MLPRegressor(hidden_layer_sizes=(100, 50), activation='relu', solver='sgd', random_state=0, max_iter=500))]\n",
    "\n",
    "# create the pipeline by passing the steps\n",
    "pipeline = Pipeline(steps)\n",
    "\n",
    "# split the data into train and test sets \n",
    "X_train, X_test, y_train, y_test = train_test_split(X, y, test_size=0.4, random_state=0)\n",
    "\n",
    "# further split the train set into a new train and validation sets\n",
    "X_train, X_val, y_train, y_val = train_test_split(X_train, y_train, test_size=0.4, random_state=0)\n",
    "\n",
    "# fit the pipeline on the training data\n",
    "NNR = pipeline.fit(X_train, y_train)\n",
    "\n",
    "# make predictions on validation data \n",
    "expected5 = y_val\n",
    "predicted5 = NNR.predict(X_val)\n",
    "\n",
    "print('---- Neural Network Regressor Model Results: ----\\n------------------------------------------')\n",
    "\n",
    "# summarize the fit of the model\n",
    "# y = a1x1 + a2x2 + anxn + b \n",
    "# mse = np.mean((predicted-expected)**2)\n",
    "mse5 = mean_squared_error(expected5,predicted5)\n",
    "\n",
    "# root mean squared error (RMSE)\n",
    "rmse5 = np.sqrt(mse5)\n",
    "\n",
    "# R square, coefficient of determination\n",
    "r2_5 = r2_score(expected5, predicted5)\n",
    "\n",
    "# mean absolute error (MAE)\n",
    "mae5 = mean_absolute_error(expected5, predicted5)\n",
    "\n",
    "# mean absolute percentage error (MAPE)\n",
    "mape5 = np.mean(np.abs((expected5 - predicted5) / expected5)) * 100\n",
    "\n",
    "# mse\n",
    "print('model MSE: ', mse5, '\\n')\n",
    "# rmse\n",
    "print('model RMSE: ', rmse5, '\\n')\n",
    "# r2\n",
    "print('model r2: ', r2_5, '\\n')\n",
    "# mae\n",
    "print('model MAE: ', mae5, '\\n')\n",
    "# mape\n",
    "print('model MAPE: ', mape5)"
   ]
  },
  {
   "cell_type": "markdown",
   "id": "816cdb3a-415c-4f3c-ba0e-7dd43a13c603",
   "metadata": {},
   "source": [
    "<h2>Lasso</h2>"
   ]
  },
  {
   "cell_type": "code",
   "execution_count": 36,
   "id": "0c0f0010-d608-4f38-bbab-2e90c3ea3b2e",
   "metadata": {},
   "outputs": [
    {
     "name": "stdout",
     "output_type": "stream",
     "text": [
      "---- Lasso Regression Results, alpha=15.0: ----\n",
      "------------------------------------------\n",
      "model MSE:  4934600296.377191 \n",
      "\n",
      "model RMSE:  70246.71021746991 \n",
      "\n",
      "model r2:  0.8604650071670203 \n",
      "\n",
      "model MAE:  36369.89457934175 \n",
      "\n",
      "model MAPE:  6.903048020887148\n",
      "\n",
      "\n",
      "---- Lasso Regression Results, alpha=20.0: ----\n",
      "------------------------------------------\n",
      "model MSE:  4935483401.626627 \n",
      "\n",
      "model RMSE:  70252.99567724232 \n",
      "\n",
      "model r2:  0.8604400357251103 \n",
      "\n",
      "model MAE:  36374.96117959776 \n",
      "\n",
      "model MAPE:  6.90491180872444\n",
      "\n",
      "\n",
      "---- Lasso Regression Results, alpha=25.0: ----\n",
      "------------------------------------------\n",
      "model MSE:  4936410705.903305 \n",
      "\n",
      "model RMSE:  70259.59511627792 \n",
      "\n",
      "model r2:  0.8604138144735743 \n",
      "\n",
      "model MAE:  36379.80147789548 \n",
      "\n",
      "model MAPE:  6.906662165501057\n",
      "\n",
      "\n",
      "---- Lasso Regression Results, alpha=30.0: ----\n",
      "------------------------------------------\n",
      "model MSE:  4937310740.723585 \n",
      "\n",
      "model RMSE:  70265.99989129583 \n",
      "\n",
      "model r2:  0.8603883643165902 \n",
      "\n",
      "model MAE:  36384.78130917851 \n",
      "\n",
      "model MAPE:  6.908476816151173\n",
      "\n",
      "\n",
      "---- Lasso Regression Results, alpha=40.0: ----\n",
      "------------------------------------------\n",
      "model MSE:  4939130999.747801 \n",
      "\n",
      "model RMSE:  70278.95132788907 \n",
      "\n",
      "model r2:  0.860336893110283 \n",
      "\n",
      "model MAE:  36394.665195680645 \n",
      "\n",
      "model MAPE:  6.9120860387833005\n",
      "\n",
      "\n"
     ]
    }
   ],
   "source": [
    "# Lasso\n",
    "from sklearn.linear_model import Lasso\n",
    "from sklearn.model_selection import train_test_split\n",
    "from sklearn.metrics import r2_score, mean_squared_error, mean_absolute_error\n",
    "from sklearn.preprocessing import StandardScaler\n",
    "from sklearn.pipeline import Pipeline\n",
    "\n",
    "# define X and y for easy identification\n",
    "# features\n",
    "X = housing_df.drop('Price ($)', axis=1)\n",
    "# target variable\n",
    "y = housing_df['Price ($)']\n",
    "\n",
    "all_alpha = [15.0, 20.0, 25.0, 30.0, 40.0]\n",
    "all_rmse_lasso = []\n",
    "all_mape_lasso = []\n",
    "# store all trained models\n",
    "all_models_lasso = []\n",
    "\n",
    "# build the steps for the pipeline\n",
    "steps = [('scaler', StandardScaler()),         \n",
    "         ('lasso', Lasso(alpha=0))] # initialize with alpha=0\n",
    "\n",
    "# create the pipeline by passing the steps\n",
    "pipeline = Pipeline(steps)\n",
    "\n",
    "for alpha in all_alpha: # increase strength of regularization\n",
    "\n",
    "    # set alpha value for lasso\n",
    "    pipeline.set_params(lasso__alpha=alpha)\n",
    "\n",
    "    # split the data into train and test sets \n",
    "    X_train, X_test, y_train, y_test = train_test_split(X, y, test_size=0.4, random_state=0)\n",
    "    \n",
    "    # further split the train set into a new train and validation sets\n",
    "    X_train, X_val, y_train, y_val = train_test_split(X_train, y_train, test_size=0.4, random_state=0)\n",
    "\n",
    "    # fit the pipeline on the training data\n",
    "    lasso = pipeline.fit(X_train, y_train)\n",
    "    \n",
    "    # store trained model for each alpha value\n",
    "    all_models_lasso.append(lasso)\n",
    "\n",
    "    # make predictions on validation data \n",
    "    expected6 = y_val\n",
    "    predicted6 = lasso.predict(X_val)\n",
    "    \n",
    "    print(f'---- Lasso Regression Results, alpha={alpha}: ----\\n------------------------------------------')\n",
    "    \n",
    "    # summarize the fit of the model\n",
    "    # mean squared error (MSE)\n",
    "    mse6 = mean_squared_error(expected6,predicted6)\n",
    "\n",
    "    # root mean squared error (RMSE)\n",
    "    rmse6 = np.sqrt(mse6)\n",
    "    all_rmse_lasso.append(rmse6)\n",
    "\n",
    "    # R square, coefficient of determination\n",
    "    r2_6 = r2_score(expected6, predicted6)\n",
    "\n",
    "    # mean absolute error (MAE)\n",
    "    mae6 = mean_absolute_error(expected6, predicted6)\n",
    "\n",
    "    # mean absolute percentage error (MAPE)\n",
    "    mape6 = np.mean(np.abs((expected6 - predicted6) / expected6)) * 100\n",
    "    all_mape_lasso.append(mape6)\n",
    "\n",
    "    # mse\n",
    "    print('model MSE: ', mse6, '\\n')\n",
    "    # rmse\n",
    "    print('model RMSE: ', rmse6, '\\n')\n",
    "    # r2\n",
    "    print('model r2: ', r2_6, '\\n')\n",
    "    # mae\n",
    "    print('model MAE: ', mae6, '\\n')\n",
    "    # mape\n",
    "    print('model MAPE: ', mape6)\n",
    "    \n",
    "    print('\\n')"
   ]
  },
  {
   "cell_type": "markdown",
   "id": "f061d2df-69e8-4ced-9e87-58ab6b4c9c12",
   "metadata": {},
   "source": [
    "- From evaluation metrics above, r2 values for all regardless of alpha values seem to be very similar to each other."
   ]
  },
  {
   "cell_type": "markdown",
   "id": "eb24c54d-7b58-4490-904d-44f2094c007b",
   "metadata": {},
   "source": [
    "<h4>Compare RMSE to see which alpha value is best</h4>"
   ]
  },
  {
   "cell_type": "code",
   "execution_count": 37,
   "id": "9243e2b4-e669-43e3-8508-6ed51758ff8c",
   "metadata": {},
   "outputs": [
    {
     "data": {
      "image/png": "[encoded data removed]",
      "text/plain": [
       "<Figure size 432x288 with 1 Axes>"
      ]
     },
     "metadata": {},
     "output_type": "display_data"
    }
   ],
   "source": [
    "# plot graph\n",
    "plt.plot(all_alpha, all_rmse_lasso, 'go--')\n",
    "# graph labels\n",
    "plt.xlabel('Alpha Value', fontsize=13, fontweight='bold')\n",
    "plt.ylabel('RMSE', fontsize=13, fontweight='bold')\n",
    "# graph title\n",
    "plt.title('Lasso Regression Model Performance', fontsize=14, fontweight='bold')\n",
    "# display graph\n",
    "plt.show()"
   ]
  },
  {
   "cell_type": "markdown",
   "id": "48150a03-3902-4479-8177-72ad31db7c09",
   "metadata": {},
   "source": [
    "- Since a lower RMSE indicates better model performance, with smaller prediction errors, from graph, alpha=15.0 yields best results."
   ]
  },
  {
   "cell_type": "markdown",
   "id": "a6ea51fd-c3d1-4c1e-a20c-badf94ffb595",
   "metadata": {},
   "source": [
    "<h4>Compare MAPE to see which alpha value is best</h4>"
   ]
  },
  {
   "cell_type": "code",
   "execution_count": 38,
   "id": "73dead62-2ae5-4aae-8c16-7596915851dd",
   "metadata": {},
   "outputs": [
    {
     "data": {
      "image/png": "[encoded data removed]",
      "text/plain": [
       "<Figure size 432x288 with 1 Axes>"
      ]
     },
     "metadata": {},
     "output_type": "display_data"
    }
   ],
   "source": [
    "# plot graph\n",
    "plt.plot(all_alpha, all_mape_lasso, 'bo--')\n",
    "# graph labels\n",
    "plt.xlabel('Alpha Value', fontsize=13, fontweight='bold')\n",
    "plt.ylabel('MAPE', fontsize=13, fontweight='bold')\n",
    "# graph title\n",
    "plt.title('Lasso Regression Model Performance', fontsize=14, fontweight='bold')\n",
    "# display graph\n",
    "plt.show()"
   ]
  },
  {
   "cell_type": "markdown",
   "id": "04b98e3e-8e9a-450b-a43d-bdfb724215d7",
   "metadata": {},
   "source": [
    "- Since lower MAPE values indicate better model performance, with smaller percentage errors, from graph, alpha=15.0 yields best model performance results."
   ]
  },
  {
   "cell_type": "markdown",
   "id": "0b49e446-8286-477c-a2f3-2d818fcf8fc6",
   "metadata": {},
   "source": [
    "- Therefore, we choose alpha=15.0!"
   ]
  },
  {
   "cell_type": "code",
   "execution_count": 39,
   "id": "8b3b00fa-a7ab-4d49-8c0d-213922a88d1c",
   "metadata": {},
   "outputs": [
    {
     "name": "stdout",
     "output_type": "stream",
     "text": [
      "---- Lasso Regression Results, alpha=15.0: ----\n",
      "------------------------------------------\n",
      "model MSE:  4934600296.377191 \n",
      "\n",
      "model RMSE:  70246.71021746991 \n",
      "\n",
      "model r2:  0.8604650071670203 \n",
      "\n",
      "model MAE:  36369.89457934175 \n",
      "\n",
      "model MAPE:  6.903048020887148\n"
     ]
    }
   ],
   "source": [
    "# Lasso (Final) \n",
    "from sklearn.linear_model import Lasso\n",
    "from sklearn.model_selection import train_test_split\n",
    "from sklearn.metrics import r2_score, mean_squared_error, mean_absolute_error\n",
    "from sklearn.preprocessing import StandardScaler\n",
    "from sklearn.pipeline import Pipeline\n",
    "\n",
    "# define X and y for easy identification\n",
    "# features\n",
    "X = housing_df.drop('Price ($)', axis=1)\n",
    "# target variable\n",
    "y = housing_df['Price ($)']\n",
    "\n",
    "# build the steps for the pipeline\n",
    "steps = [('scaler', StandardScaler()),         \n",
    "        ('lasso', Lasso(alpha=15.0))]\n",
    "\n",
    "# create the pipeline by passing the steps\n",
    "pipeline = Pipeline(steps)\n",
    "\n",
    "# split the data into train and test sets \n",
    "X_train, X_test, y_train, y_test = train_test_split(X, y, test_size=0.4, random_state=0)\n",
    "    \n",
    "# further split the train set into a new train and validation sets\n",
    "X_train, X_val, y_train, y_val = train_test_split(X_train, y_train, test_size=0.4, random_state=0)\n",
    "\n",
    "# fit the pipeline on the training data\n",
    "lasso = pipeline.fit(X_train, y_train)\n",
    "\n",
    "# make predictions on validation data \n",
    "expected6 = y_val\n",
    "predicted6 = lasso.predict(X_val)\n",
    "    \n",
    "print(f'---- Lasso Regression Results, alpha=15.0: ----\\n------------------------------------------')\n",
    "    \n",
    "# summarize the fit of the model\n",
    "# mean squared error (MSE)\n",
    "mse6 = mean_squared_error(expected6,predicted6)\n",
    "\n",
    "# root mean squared error (RMSE)\n",
    "rmse6 = np.sqrt(mse6)\n",
    "\n",
    "# R square, coefficient of determination\n",
    "r2_6 = r2_score(expected6, predicted6)\n",
    "\n",
    "# mean absolute error (MAE)\n",
    "mae6 = mean_absolute_error(expected6, predicted6)\n",
    "\n",
    "# mean absolute percentage error (MAPE)\n",
    "mape6 = np.mean(np.abs((expected6 - predicted6) / expected6)) * 100\n",
    "\n",
    "# mse\n",
    "print('model MSE: ', mse6, '\\n')\n",
    "# rmse\n",
    "print('model RMSE: ', rmse6, '\\n')\n",
    "# r2\n",
    "print('model r2: ', r2_6, '\\n')\n",
    "# mae\n",
    "print('model MAE: ', mae6, '\\n')\n",
    "# mape\n",
    "print('model MAPE: ', mape6)"
   ]
  },
  {
   "cell_type": "markdown",
   "id": "608385f8-c346-4aa2-a5de-8a9fafd7e24e",
   "metadata": {},
   "source": [
    "<h3>Feature Selection with Lasso</h3>"
   ]
  },
  {
   "cell_type": "code",
   "execution_count": 40,
   "id": "bc96fc74-b759-4b71-8836-7c1eb9f9bf2b",
   "metadata": {},
   "outputs": [
    {
     "data": {
      "image/png": "[encoded data removed]",
      "text/plain": [
       "<Figure size 936x432 with 1 Axes>"
      ]
     },
     "metadata": {},
     "output_type": "display_data"
    }
   ],
   "source": [
    "# fit lasso\n",
    "lasso_model = pipeline.named_steps['lasso']\n",
    "\n",
    "# get feature importance\n",
    "feature_impt = np.abs(lasso_model.coef_)\n",
    "\n",
    "# get feature indices (feature importance greater than 0.01)\n",
    "feature_ind = np.where(feature_impt > 0.01)[0]\n",
    "\n",
    "# get feature names\n",
    "feature_names = X.columns[feature_ind]\n",
    "\n",
    "# sort feature importance and corr. feature names in descending order\n",
    "# sort feature indices\n",
    "sortedInd = np.argsort(feature_impt[feature_ind])\n",
    "# sort feature names\n",
    "sortedNames = feature_names[sortedInd]\n",
    "# sort feature importance\n",
    "sortedImpt = feature_impt[feature_ind][sortedInd]\n",
    "\n",
    "# create and set figure size\n",
    "plt.figure(figsize=(13,6))\n",
    "\n",
    "# plot bar graph\n",
    "plt.bar(sortedNames, sortedImpt)\n",
    "\n",
    "# graph labels\n",
    "plt.xlabel('Features', fontsize=14, fontweight='bold')\n",
    "plt.ylabel('Importance', fontsize=14, fontweight='bold')\n",
    "# graph title\n",
    "plt.title('Lasso for Feature Importance', fontsize=15, fontweight='bold')\n",
    "# rotate x-axis labels\n",
    "plt.xticks(rotation=45)\n",
    "# display graph\n",
    "plt.show()"
   ]
  },
  {
   "cell_type": "markdown",
   "id": "a55024d0-19f4-4414-812b-2d4d5e741407",
   "metadata": {},
   "source": [
    "- As shown above, 'City_Chicago' is not seen to have any impact on model prediction.\n",
    "- No. of Toilets heavily impacts model prediction performance. "
   ]
  },
  {
   "cell_type": "markdown",
   "id": "919c1b61-694a-42c1-9cff-218f04004535",
   "metadata": {},
   "source": [
    "<h2>Ridge</h2>"
   ]
  },
  {
   "cell_type": "code",
   "execution_count": 41,
   "id": "602302cd-6631-4b57-999b-a5e0d95bc244",
   "metadata": {},
   "outputs": [
    {
     "name": "stdout",
     "output_type": "stream",
     "text": [
      "---- Ridge Regression Results, alpha=0.001: ----\n",
      "------------------------------------------\n",
      "model MSE:  4932077754.892947 \n",
      "\n",
      "model RMSE:  70228.75304953767 \n",
      "\n",
      "model r2:  0.8605363367148631 \n",
      "\n",
      "model MAE:  36354.568991287306 \n",
      "\n",
      "model MAPE:  6.897434985017743\n",
      "\n",
      "\n",
      "---- Ridge Regression Results, alpha=0.01: ----\n",
      "------------------------------------------\n",
      "model MSE:  4932735139.400964 \n",
      "\n",
      "model RMSE:  70233.43320243547 \n",
      "\n",
      "model r2:  0.8605177479463498 \n",
      "\n",
      "model MAE:  36355.67640680881 \n",
      "\n",
      "model MAPE:  6.897569677688577\n",
      "\n",
      "\n",
      "---- Ridge Regression Results, alpha=0.1: ----\n",
      "------------------------------------------\n",
      "model MSE:  4939261337.876593 \n",
      "\n",
      "model RMSE:  70279.87861313217 \n",
      "\n",
      "model r2:  0.8603332075574976 \n",
      "\n",
      "model MAE:  36366.1633993774 \n",
      "\n",
      "model MAPE:  6.8987450936225905\n",
      "\n",
      "\n",
      "---- Ridge Regression Results, alpha=1.0: ----\n",
      "------------------------------------------\n",
      "model MSE:  4999981621.315992 \n",
      "\n",
      "model RMSE:  70710.54816161442 \n",
      "\n",
      "model r2:  0.8586162287130807 \n",
      "\n",
      "model MAE:  36421.295292539806 \n",
      "\n",
      "model MAPE:  6.896045224136491\n",
      "\n",
      "\n",
      "---- Ridge Regression Results, alpha=10.0: ----\n",
      "------------------------------------------\n",
      "model MSE:  5390213826.043426 \n",
      "\n",
      "model RMSE:  73418.0756084183 \n",
      "\n",
      "model r2:  0.8475816879966186 \n",
      "\n",
      "model MAE:  35855.77073653503 \n",
      "\n",
      "model MAPE:  6.566428504745375\n",
      "\n",
      "\n"
     ]
    }
   ],
   "source": [
    "# Ridge\n",
    "from sklearn.linear_model import Ridge\n",
    "from sklearn.model_selection import train_test_split\n",
    "from sklearn.metrics import r2_score, mean_squared_error, mean_absolute_error\n",
    "from sklearn.preprocessing import StandardScaler\n",
    "from sklearn.pipeline import Pipeline\n",
    "\n",
    "# define X and y for easy identification\n",
    "# features\n",
    "X = housing_df.drop('Price ($)', axis=1)\n",
    "# target variable\n",
    "y = housing_df['Price ($)']\n",
    "\n",
    "all_alpha_ridge = [0.001, 0.01, 0.1, 1.0, 10.0]\n",
    "all_rmse_ridge = []\n",
    "all_mape_ridge = []\n",
    "all_models_ridge = []\n",
    "\n",
    "# build the steps for the pipeline\n",
    "steps = [('scaler', StandardScaler()),         \n",
    "        ('ridge', Ridge(max_iter=10000))]\n",
    "\n",
    "# create the pipeline by passing the steps\n",
    "pipeline = Pipeline(steps)\n",
    "\n",
    "for alpha in all_alpha_ridge:\n",
    "    \n",
    "    # set alpha value for ridge\n",
    "    pipeline.set_params(ridge__alpha=alpha)\n",
    "\n",
    "    # split the data into train and test sets \n",
    "    X_train, X_test, y_train, y_test = train_test_split(X, y, test_size=0.4, random_state=0)\n",
    "    \n",
    "    # further split the train set into a new train and validation sets\n",
    "    X_train, X_val, y_train, y_val = train_test_split(X_train, y_train, test_size=0.4, random_state=0)\n",
    "\n",
    "    # fit the pipeline on the training data\n",
    "    ridge = pipeline.fit(X_train, y_train)\n",
    "    \n",
    "    # store trained model for each alpha value\n",
    "    all_models_ridge.append(ridge)\n",
    "\n",
    "    # make predictions on validation data \n",
    "    expected7 = y_val\n",
    "    predicted7 = ridge.predict(X_val)\n",
    "\n",
    "    print(f'---- Ridge Regression Results, alpha={alpha}: ----\\n------------------------------------------')\n",
    "    \n",
    "    # summarize the fit of the model\n",
    "    # mean squared error (MSE)\n",
    "    mse7 = mean_squared_error(expected7,predicted7)\n",
    "\n",
    "    # root mean squared error (RMSE)\n",
    "    rmse7 = np.sqrt(mse7)\n",
    "    all_rmse_ridge.append(rmse7)\n",
    "\n",
    "    # R square, coefficient of determination\n",
    "    r2_7 = r2_score(expected7, predicted7)\n",
    "\n",
    "    # mean absolute error (MAE)\n",
    "    mae7 = mean_absolute_error(expected7, predicted7)\n",
    "\n",
    "    # mean absolute percentage error (MAPE)\n",
    "    mape7 = np.mean(np.abs((expected7 - predicted7) / expected7)) * 100\n",
    "    all_mape_ridge.append(mape7)\n",
    "\n",
    "    # mse\n",
    "    print('model MSE: ', mse7, '\\n')\n",
    "    # rmse\n",
    "    print('model RMSE: ', rmse7, '\\n')\n",
    "    # r2\n",
    "    print('model r2: ', r2_7, '\\n')\n",
    "    # mae\n",
    "    print('model MAE: ', mae7, '\\n')\n",
    "    # mape\n",
    "    print('model MAPE: ', mape7)\n",
    "    \n",
    "    print('\\n')"
   ]
  },
  {
   "cell_type": "markdown",
   "id": "8ea5acf5-eb68-489b-8fc9-f9d6c8c480f0",
   "metadata": {},
   "source": [
    "- From evaluation metrics above, r2 value is highest for alpha=0.001"
   ]
  },
  {
   "cell_type": "markdown",
   "id": "65d77c96-f673-4210-a19c-678bc2cd6762",
   "metadata": {},
   "source": [
    "<h4>Compare RMSE to see which alpha value is best</h4>"
   ]
  },
  {
   "cell_type": "code",
   "execution_count": 42,
   "id": "fbc62c95-d58e-4895-9905-d5bcfd7a58c6",
   "metadata": {},
   "outputs": [
    {
     "data": {
      "image/png": "[encoded data removed]",
      "text/plain": [
       "<Figure size 432x288 with 1 Axes>"
      ]
     },
     "metadata": {},
     "output_type": "display_data"
    }
   ],
   "source": [
    "# plot graph\n",
    "plt.plot(all_alpha_ridge, all_rmse_ridge, 'go--')\n",
    "# graph labels\n",
    "plt.xlabel('Alpha Value', fontsize=13, fontweight='bold')\n",
    "plt.ylabel('RMSE', fontsize=13, fontweight='bold')\n",
    "# graph title\n",
    "plt.title('Ridge Regression Model Performance', fontsize=14, fontweight='bold')\n",
    "# display graph\n",
    "plt.show()"
   ]
  },
  {
   "cell_type": "markdown",
   "id": "e25f93b7-a818-449b-8d29-4d9a1c1b2a46",
   "metadata": {},
   "source": [
    "- Since a lower RMSE indicates better model performance, with smaller prediction errors, from graph, alpha values very close to zero (0.001) yields best results."
   ]
  },
  {
   "cell_type": "markdown",
   "id": "348545db-cc81-4b85-823f-e95caccf5103",
   "metadata": {},
   "source": [
    "<h4>Compare MAPE to see which alpha value is best</h4>"
   ]
  },
  {
   "cell_type": "code",
   "execution_count": 43,
   "id": "674c57a1-d891-4117-8a31-224230f90b9e",
   "metadata": {},
   "outputs": [
    {
     "data": {
      "image/png": "[encoded data removed]",
      "text/plain": [
       "<Figure size 432x288 with 1 Axes>"
      ]
     },
     "metadata": {},
     "output_type": "display_data"
    }
   ],
   "source": [
    "# plot graph\n",
    "plt.plot(all_alpha_ridge, all_mape_ridge, 'bo--')\n",
    "# graph labels\n",
    "plt.xlabel('Alpha Value', fontsize=13, fontweight='bold')\n",
    "plt.ylabel('MAPE', fontsize=13, fontweight='bold')\n",
    "# graph title\n",
    "plt.title('Ridge Regression Model Performance', fontsize=14, fontweight='bold')\n",
    "# display graph\n",
    "plt.show()"
   ]
  },
  {
   "cell_type": "markdown",
   "id": "33102a83-0297-42fa-96b0-e5ab851534db",
   "metadata": {},
   "source": [
    "- Since lower MAPE values indicate better model performance, with smaller percentage errors, from graph, alpha=10.0 yields best model performance results."
   ]
  },
  {
   "cell_type": "markdown",
   "id": "f53ad105-9c54-4ef5-a743-55a28f83e247",
   "metadata": {},
   "source": [
    "- Interestingly, the graphs show conflicting results where opposite ends of range of alpha values perform well and poor in RMSE and MAPE. \n",
    "- To choose which alpha value I should use for Ridge, I will pick alpha=0.1. It has a decent r2 value, and RMSE and MAPE values are not too bad. "
   ]
  },
  {
   "cell_type": "code",
   "execution_count": 44,
   "id": "93a58740-f6ad-44cc-928a-534202fa59a4",
   "metadata": {},
   "outputs": [
    {
     "name": "stdout",
     "output_type": "stream",
     "text": [
      "---- Ridge Regression Results, alpha=0.1: ----\n",
      "------------------------------------------\n",
      "model MSE:  4939261337.876593 \n",
      "\n",
      "model RMSE:  70279.87861313217 \n",
      "\n",
      "model r2:  0.8603332075574976 \n",
      "\n",
      "model MAE:  36366.1633993774 \n",
      "\n",
      "model MAPE:  6.8987450936225905\n"
     ]
    }
   ],
   "source": [
    "# Ridge (Final)\n",
    "from sklearn.linear_model import Ridge\n",
    "from sklearn.model_selection import train_test_split\n",
    "from sklearn.metrics import r2_score, mean_squared_error, mean_absolute_error\n",
    "from sklearn.preprocessing import StandardScaler\n",
    "from sklearn.pipeline import Pipeline\n",
    "\n",
    "# define X and y for easy identification\n",
    "# features\n",
    "X = housing_df.drop('Price ($)', axis=1)\n",
    "# target variable\n",
    "y = housing_df['Price ($)']\n",
    "\n",
    "# build the steps for the pipeline\n",
    "steps = [('scaler', StandardScaler()),         \n",
    "        ('ridge', Ridge(alpha=0.1, max_iter=10000))]\n",
    "\n",
    "# create the pipeline by passing the steps\n",
    "pipeline = Pipeline(steps)\n",
    "\n",
    "# split the data into train and test sets \n",
    "X_train, X_test, y_train, y_test = train_test_split(X, y, test_size=0.4, random_state=0)\n",
    "    \n",
    "# further split the train set into a new train and validation sets\n",
    "X_train, X_val, y_train, y_val = train_test_split(X_train, y_train, test_size=0.4, random_state=0)\n",
    "\n",
    "# fit the pipeline on the training data\n",
    "ridge = pipeline.fit(X_train, y_train)\n",
    "\n",
    "# make predictions on validation data \n",
    "expected7 = y_val\n",
    "predicted7 = ridge.predict(X_val)\n",
    "\n",
    "print(f'---- Ridge Regression Results, alpha=0.1: ----\\n------------------------------------------')\n",
    "    \n",
    "# summarize the fit of the model\n",
    "# mean squared error (MSE)\n",
    "mse7 = mean_squared_error(expected7,predicted7)\n",
    "\n",
    "# root mean squared error (RMSE)\n",
    "rmse7 = np.sqrt(mse7)\n",
    "\n",
    "# R square, coefficient of determination\n",
    "r2_7 = r2_score(expected7, predicted7)\n",
    "\n",
    "# mean absolute error (MAE)\n",
    "mae7 = mean_absolute_error(expected7, predicted7)\n",
    "\n",
    "# mean absolute percentage error (MAPE)\n",
    "mape7 = np.mean(np.abs((expected7 - predicted7) / expected7)) * 100\n",
    "\n",
    "# mse\n",
    "print('model MSE: ', mse7, '\\n')\n",
    "# rmse\n",
    "print('model RMSE: ', rmse7, '\\n')\n",
    "# r2\n",
    "print('model r2: ', r2_7, '\\n')\n",
    "# mae\n",
    "print('model MAE: ', mae7, '\\n')\n",
    "# mape\n",
    "print('model MAPE: ', mape7)"
   ]
  },
  {
   "cell_type": "markdown",
   "id": "81a04743-e946-4743-a8f6-e7aa0f73a271",
   "metadata": {
    "tags": []
   },
   "source": [
    "<h1><center> Comparing Models Performances and Choosing 'The One'!</center></h1>"
   ]
  },
  {
   "cell_type": "markdown",
   "id": "c86054d2-c805-4f28-86ac-25db29bc52ef",
   "metadata": {},
   "source": [
    "<h2>1. Compare Evaluation Metrics of All Models</h2>"
   ]
  },
  {
   "cell_type": "code",
   "execution_count": 45,
   "id": "098e2580-fd2d-4b1c-83d3-89e8a5a3bfa8",
   "metadata": {},
   "outputs": [
    {
     "data": {
      "text/html": [
       "<div>\n",
       "<style scoped>\n",
       "    .dataframe tbody tr th:only-of-type {\n",
       "        vertical-align: middle;\n",
       "    }\n",
       "\n",
       "    .dataframe tbody tr th {\n",
       "        vertical-align: top;\n",
       "    }\n",
       "\n",
       "    .dataframe thead th {\n",
       "        text-align: right;\n",
       "    }\n",
       "</style>\n",
       "<table border=\"1\" class=\"dataframe\">\n",
       "  <thead>\n",
       "    <tr style=\"text-align: right;\">\n",
       "      <th></th>\n",
       "      <th>MSE</th>\n",
       "      <th>RMSE</th>\n",
       "      <th>r2</th>\n",
       "      <th>MAE</th>\n",
       "      <th>MAPE</th>\n",
       "    </tr>\n",
       "    <tr>\n",
       "      <th>Model</th>\n",
       "      <th></th>\n",
       "      <th></th>\n",
       "      <th></th>\n",
       "      <th></th>\n",
       "      <th></th>\n",
       "    </tr>\n",
       "  </thead>\n",
       "  <tbody>\n",
       "    <tr>\n",
       "      <th>Linear Regression</th>\n",
       "      <td>4932004658.546523</td>\n",
       "      <td>70228.232632</td>\n",
       "      <td>0.860538</td>\n",
       "      <td>36354.445274</td>\n",
       "      <td>6.89742</td>\n",
       "    </tr>\n",
       "    <tr>\n",
       "      <th>Decision Tree Regression</th>\n",
       "      <td>135704061.045802</td>\n",
       "      <td>11649.208602</td>\n",
       "      <td>0.996163</td>\n",
       "      <td>4638.435115</td>\n",
       "      <td>0.922796</td>\n",
       "    </tr>\n",
       "    <tr>\n",
       "      <th>Random Forest Regression</th>\n",
       "      <td>394652629.72349</td>\n",
       "      <td>19865.865944</td>\n",
       "      <td>0.98884</td>\n",
       "      <td>5743.378168</td>\n",
       "      <td>0.989821</td>\n",
       "    </tr>\n",
       "    <tr>\n",
       "      <th>Gradient Boosting Regression</th>\n",
       "      <td>394652629.72349</td>\n",
       "      <td>19865.865944</td>\n",
       "      <td>0.996624</td>\n",
       "      <td>3853.903172</td>\n",
       "      <td>0.772668</td>\n",
       "    </tr>\n",
       "    <tr>\n",
       "      <th>Neural Network Regression</th>\n",
       "      <td>1856149501390.448486</td>\n",
       "      <td>1362405.777069</td>\n",
       "      <td>-51.486076</td>\n",
       "      <td>1349364.625884</td>\n",
       "      <td>314.912538</td>\n",
       "    </tr>\n",
       "    <tr>\n",
       "      <th>Lasso Regression</th>\n",
       "      <td>4934600296.377191</td>\n",
       "      <td>70246.710217</td>\n",
       "      <td>0.860465</td>\n",
       "      <td>36369.894579</td>\n",
       "      <td>6.903048</td>\n",
       "    </tr>\n",
       "    <tr>\n",
       "      <th>Ridge Regression</th>\n",
       "      <td>4939261337.876593</td>\n",
       "      <td>70279.878613</td>\n",
       "      <td>0.860333</td>\n",
       "      <td>36366.163399</td>\n",
       "      <td>6.898745</td>\n",
       "    </tr>\n",
       "  </tbody>\n",
       "</table>\n",
       "</div>"
      ],
      "text/plain": [
       "                                               MSE            RMSE         r2  \\\n",
       "Model                                                                           \n",
       "Linear Regression                4932004658.546523    70228.232632   0.860538   \n",
       "Decision Tree Regression          135704061.045802    11649.208602   0.996163   \n",
       "Random Forest Regression           394652629.72349    19865.865944    0.98884   \n",
       "Gradient Boosting Regression       394652629.72349    19865.865944   0.996624   \n",
       "Neural Network Regression     1856149501390.448486  1362405.777069 -51.486076   \n",
       "Lasso Regression                 4934600296.377191    70246.710217   0.860465   \n",
       "Ridge Regression                 4939261337.876593    70279.878613   0.860333   \n",
       "\n",
       "                                         MAE        MAPE  \n",
       "Model                                                     \n",
       "Linear Regression               36354.445274     6.89742  \n",
       "Decision Tree Regression         4638.435115    0.922796  \n",
       "Random Forest Regression         5743.378168    0.989821  \n",
       "Gradient Boosting Regression     3853.903172    0.772668  \n",
       "Neural Network Regression     1349364.625884  314.912538  \n",
       "Lasso Regression                36369.894579    6.903048  \n",
       "Ridge Regression                36366.163399    6.898745  "
      ]
     },
     "execution_count": 45,
     "metadata": {},
     "output_type": "execute_result"
    }
   ],
   "source": [
    "# create a new dataframe for evaluation metrics of all models\n",
    "metrics_df = pd.DataFrame(columns=['Model', 'MSE', 'RMSE', 'r2', 'MAE', 'MAPE'])\n",
    "\n",
    "metrics_df = pd.concat([metrics_df,\n",
    "                        pd.DataFrame({'Model': ['Linear Regression'],\n",
    "                                      'MSE': [mse1],\n",
    "                                      'RMSE': [rmse1],\n",
    "                                      'r2': [r2_1],\n",
    "                                      'MAE': [mae1],\n",
    "                                      'MAPE': [mape1]})],\n",
    "                       ignore_index=True)\n",
    "\n",
    "metrics_df = pd.concat([metrics_df,\n",
    "                        pd.DataFrame({'Model': ['Decision Tree Regression'],\n",
    "                                      'MSE': [mse2],\n",
    "                                      'RMSE': [rmse2],\n",
    "                                      'r2': [r2_2],\n",
    "                                      'MAE': [mae2],\n",
    "                                      'MAPE': [mape2]})],\n",
    "                       ignore_index=True)\n",
    "\n",
    "metrics_df = pd.concat([metrics_df,\n",
    "                        pd.DataFrame({'Model': ['Random Forest Regression'],\n",
    "                                      'MSE': [mse3],\n",
    "                                      'RMSE': [rmse3],\n",
    "                                      'r2': [r2_3],\n",
    "                                      'MAE': [mae3],\n",
    "                                      'MAPE': [mape3]})],\n",
    "                       ignore_index=True)\n",
    "\n",
    "metrics_df = pd.concat([metrics_df,\n",
    "                        pd.DataFrame({'Model': ['Gradient Boosting Regression'],\n",
    "                                      'MSE': [mse4],\n",
    "                                      'RMSE': [rmse4],\n",
    "                                      'r2': [r2_4],\n",
    "                                      'MAE': [mae4],\n",
    "                                      'MAPE': [mape4]})],\n",
    "                       ignore_index=True)\n",
    "\n",
    "metrics_df = pd.concat([metrics_df,\n",
    "                        pd.DataFrame({'Model': ['Neural Network Regression'],\n",
    "                                      'MSE': [mse5],\n",
    "                                      'RMSE': [rmse5],\n",
    "                                      'r2': [r2_5],\n",
    "                                      'MAE': [mae5],\n",
    "                                      'MAPE': [mape5]})],\n",
    "                       ignore_index=True)\n",
    "\n",
    "metrics_df = pd.concat([metrics_df,\n",
    "                        pd.DataFrame({'Model': ['Lasso Regression'],\n",
    "                                      'MSE': [mse6],\n",
    "                                      'RMSE': [rmse6],\n",
    "                                      'r2': [r2_6],\n",
    "                                      'MAE': [mae6],\n",
    "                                      'MAPE': [mape6]})],\n",
    "                       ignore_index=True)\n",
    "\n",
    "metrics_df = pd.concat([metrics_df,\n",
    "                        pd.DataFrame({'Model': ['Ridge Regression'],\n",
    "                                      'MSE': [mse7],\n",
    "                                      'RMSE': [rmse7],\n",
    "                                      'r2': [r2_7],\n",
    "                                      'MAE': [mae7],\n",
    "                                      'MAPE': [mape7]})],\n",
    "                       ignore_index=True)\n",
    "\n",
    "metrics_df.set_index('Model', inplace=True)\n",
    "\n",
    "metrics_df"
   ]
  },
  {
   "cell_type": "markdown",
   "id": "c9446b74-c8f5-46be-a6ea-30c42e090a4c",
   "metadata": {},
   "source": [
    "- From the dataframe, it is evident that Gradient Boosting Regression model has the best model performance.\n",
    "    - It has the lowest MAPE, MAE, RMSE, MSE values, and the third highest r2 value, as compared to the other models.\n",
    "- Another good model suitable for this analysis would be Decision Tree Regression or Random Forest Regression. "
   ]
  },
  {
   "cell_type": "markdown",
   "id": "71a4fa75-aff9-45f3-ad47-849075711794",
   "metadata": {},
   "source": [
    "<h2>2. Residual Analysis</h2>"
   ]
  },
  {
   "cell_type": "code",
   "execution_count": 46,
   "id": "ae44d17f-b171-4cdc-abd9-9ca687f6087e",
   "metadata": {},
   "outputs": [
    {
     "data": {
      "image/png": "[encoded data removed]",
      "text/plain": [
       "<Figure size 432x288 with 1 Axes>"
      ]
     },
     "metadata": {},
     "output_type": "display_data"
    }
   ],
   "source": [
    "# calculate residuals\n",
    "residuals1 = expected1 - predicted1\n",
    "\n",
    "# plot scatter plot for Linear Regression\n",
    "plt.scatter(predicted1, residuals1)\n",
    "\n",
    "# plot baseline: residuals are 0  (no error)\n",
    "plt.axhline(y=0, color='r', linestyle='--')\n",
    "\n",
    "# graph labels\n",
    "plt.xlabel('Predicted Values',  fontsize=14, fontweight='bold')\n",
    "plt.ylabel('Residuals', fontsize=14, fontweight='bold')\n",
    "# graph title\n",
    "plt.title('Residual Plot - Linear Regression',  fontsize=15, fontweight='bold')\n",
    "# display graph\n",
    "plt.show()"
   ]
  },
  {
   "cell_type": "markdown",
   "id": "8e12a489-d070-4577-a0c8-0bacde5456bb",
   "metadata": {},
   "source": [
    "- In the residual plot for linear regression, \n",
    "    - The data points are above the residual=0 line near [200000,350000]\n",
    "    - Then, more data points are below the residual=0 line at [350000,600000]\n",
    "    - Data points are lastly above the residual=0 line again at [600000,800000]\n",
    "- The data points form a U-shaped pattern. \n",
    "- Therefore, this shows that the linear regression model is not a very good fit for the data, and will have errors. "
   ]
  },
  {
   "cell_type": "code",
   "execution_count": 47,
   "id": "cbcdee44-ed64-44d1-9dcd-b30997f82b1c",
   "metadata": {},
   "outputs": [
    {
     "data": {
      "image/png": "[encoded data removed]",
      "text/plain": [
       "<Figure size 432x288 with 1 Axes>"
      ]
     },
     "metadata": {},
     "output_type": "display_data"
    }
   ],
   "source": [
    "# calculate residuals\n",
    "residuals2 = expected2 - predicted2\n",
    "\n",
    "# plot scatter plot for Decision Tree Regression\n",
    "plt.scatter(predicted2, residuals2)\n",
    "\n",
    "# plot baseline: residuals are 0  (no error)\n",
    "plt.axhline(y=0, color='r', linestyle='--')\n",
    "\n",
    "# graph labels\n",
    "plt.xlabel('Predicted Values',  fontsize=14, fontweight='bold')\n",
    "plt.ylabel('Residuals', fontsize=14, fontweight='bold')\n",
    "# graph title\n",
    "plt.title('Residual Plot - Decision Tree Regression',  fontsize=15, fontweight='bold')\n",
    "# display graph\n",
    "plt.show()"
   ]
  },
  {
   "cell_type": "markdown",
   "id": "f52a2ea1-9491-4d62-8932-719ec2039337",
   "metadata": {},
   "source": [
    "- In the residual plot for decision tree regression, \n",
    "    - The data points are randomly scattered around the residual=0 line, with no distinct pattern/shape. \n",
    "- Therefore, this shows that the decision tree regression model is an appropriate fit for the data."
   ]
  },
  {
   "cell_type": "code",
   "execution_count": 48,
   "id": "32dc16e7-258e-4690-9e58-afc18f164cae",
   "metadata": {},
   "outputs": [
    {
     "data": {
      "image/png": "[encoded data removed]",
      "text/plain": [
       "<Figure size 432x288 with 1 Axes>"
      ]
     },
     "metadata": {},
     "output_type": "display_data"
    }
   ],
   "source": [
    "# calculate residuals\n",
    "residuals3 = expected3 - predicted3\n",
    "\n",
    "# plot scatter plot for Random Forest Regression\n",
    "plt.scatter(predicted3, residuals3)\n",
    "\n",
    "# plot baseline: residuals are 0  (no error)\n",
    "plt.axhline(y=0, color='r', linestyle='--')\n",
    "\n",
    "# graph labels\n",
    "plt.xlabel('Predicted Values',  fontsize=14, fontweight='bold')\n",
    "plt.ylabel('Residuals', fontsize=14, fontweight='bold')\n",
    "# graph title\n",
    "plt.title('Residual Plot - Random Forest Regression',  fontsize=15, fontweight='bold')\n",
    "# display graph\n",
    "plt.show()"
   ]
  },
  {
   "cell_type": "markdown",
   "id": "2334bea5-c3d4-46e3-bfc8-45d0670a057d",
   "metadata": {},
   "source": [
    "- In the residual plot for random forest regression, \n",
    "    - The data points are above and below the residual=0 line near [200000,700000]\n",
    "    - Then, more data points are below the residual=0 line at [700000,900000]\n",
    "    - Data points are lastly above the residual=0 line again at 1000000\n",
    "- The data points form a somewhat U-shaped pattern. \n",
    "- Therefore, this shows that the random forest regression model is decent but still not a very good fit for the data. "
   ]
  },
  {
   "cell_type": "code",
   "execution_count": 49,
   "id": "df56b0f1-3c8b-4fdb-8dc2-fdb013ed7a78",
   "metadata": {},
   "outputs": [
    {
     "data": {
      "image/png": "[encoded data removed]",
      "text/plain": [
       "<Figure size 432x288 with 1 Axes>"
      ]
     },
     "metadata": {},
     "output_type": "display_data"
    }
   ],
   "source": [
    "# calculate residuals\n",
    "residuals4 = expected4 - predicted4\n",
    "\n",
    "# plot scatter plot for Gradient Boosting Regression\n",
    "plt.scatter(predicted4, residuals4)\n",
    "\n",
    "# plot baseline: residuals are 0  (no error)\n",
    "plt.axhline(y=0, color='r', linestyle='--')\n",
    "\n",
    "# graph labels\n",
    "plt.xlabel('Predicted Values',  fontsize=14, fontweight='bold')\n",
    "plt.ylabel('Residuals', fontsize=14, fontweight='bold')\n",
    "# graph title\n",
    "plt.title('Residual Plot - Gradient Boosting Regression',  fontsize=15, fontweight='bold')\n",
    "# display graph\n",
    "plt.show()"
   ]
  },
  {
   "cell_type": "markdown",
   "id": "06e42d5f-e1d4-4e30-a282-b5c0b59a1be9",
   "metadata": {},
   "source": [
    "- In the residual plot for gradient boosting regression, \n",
    "    - The data points are randomly scattered around the residual=0 line, with no distinct pattern/shape. \n",
    "- Therefore, this shows that the gradient boosting regression model is an appropriate fit for the data."
   ]
  },
  {
   "cell_type": "code",
   "execution_count": 50,
   "id": "4991b42e-24b2-41c3-889a-2579384ddbcb",
   "metadata": {},
   "outputs": [
    {
     "data": {
      "image/png": "[encoded data removed]",
      "text/plain": [
       "<Figure size 432x288 with 1 Axes>"
      ]
     },
     "metadata": {},
     "output_type": "display_data"
    }
   ],
   "source": [
    "# calculate residuals\n",
    "residuals5 = expected5 - predicted5\n",
    "\n",
    "# plot scatter plot for Neural Network Regression\n",
    "plt.scatter(predicted5, residuals5)\n",
    "\n",
    "# plot baseline: residuals are 0  (no error)\n",
    "plt.axhline(y=0, color='r', linestyle='--')\n",
    "\n",
    "# graph labels\n",
    "plt.xlabel('Predicted Values',  fontsize=14, fontweight='bold')\n",
    "plt.ylabel('Residuals', fontsize=14, fontweight='bold')\n",
    "# graph title\n",
    "plt.title('Residual Plot - Neural Network Regression',  fontsize=15, fontweight='bold')\n",
    "# display graph\n",
    "plt.show()"
   ]
  },
  {
   "cell_type": "markdown",
   "id": "22afb47e-4e58-4bde-8a5d-63890fae90af",
   "metadata": {},
   "source": [
    "The predicted values for neural network regression model are consistently underestimating the actual values by a certain amount.\n",
    "\n",
    "The vertical line at x = -880000 suggests neural network model consistently predicts values that are lower than the actual values by approximately 880000 units. \n",
    "This indicates a bias in the predictions, where the model tends to underestimate the target variable."
   ]
  },
  {
   "cell_type": "code",
   "execution_count": 51,
   "id": "ff7d08d0-72e6-4336-a158-874db85f53d0",
   "metadata": {},
   "outputs": [
    {
     "data": {
      "image/png": "[encoded data removed]",
      "text/plain": [
       "<Figure size 432x288 with 1 Axes>"
      ]
     },
     "metadata": {},
     "output_type": "display_data"
    }
   ],
   "source": [
    "# calculate residuals\n",
    "residuals6 = expected6 - predicted6\n",
    "\n",
    "# plot scatter plot for Lasso Regression\n",
    "plt.scatter(predicted6, residuals6)\n",
    "\n",
    "# plot baseline: residuals are 0  (no error)\n",
    "plt.axhline(y=0, color='r', linestyle='--')\n",
    "\n",
    "# graph labels\n",
    "plt.xlabel('Predicted Values',  fontsize=14, fontweight='bold')\n",
    "plt.ylabel('Residuals', fontsize=14, fontweight='bold')\n",
    "# graph title\n",
    "plt.title('Residual Plot - Lasso Regression',  fontsize=15, fontweight='bold')\n",
    "# display graph\n",
    "plt.show()"
   ]
  },
  {
   "cell_type": "markdown",
   "id": "a08a6903-d92e-4b2f-a618-c7698e8536b4",
   "metadata": {},
   "source": [
    "- In the residual plot for lasso regression, \n",
    "    - The data points are above the residual=0 line near [200000,400000]\n",
    "    - Then, more data points are below the residual=0 line at [400000,600000]\n",
    "    - Data points are lastly above and below the residual=0 line again at [600000,800000]\n",
    "- The data points form a U-shaped pattern. \n",
    "- Therefore, this shows that the lasso regression model is not the best fit for the data. "
   ]
  },
  {
   "cell_type": "code",
   "execution_count": 52,
   "id": "edca0533-437e-4ab6-bb54-7acd1ba799da",
   "metadata": {},
   "outputs": [
    {
     "data": {
      "image/png": "[encoded data removed]",
      "text/plain": [
       "<Figure size 432x288 with 1 Axes>"
      ]
     },
     "metadata": {},
     "output_type": "display_data"
    }
   ],
   "source": [
    "# calculate residuals\n",
    "residuals7 = expected7 - predicted7\n",
    "\n",
    "# plot scatter plot for Ridge Regression\n",
    "plt.scatter(predicted7, residuals7)\n",
    "\n",
    "# plot baseline: residuals are 0  (no error)\n",
    "plt.axhline(y=0, color='r', linestyle='--')\n",
    "\n",
    "# graph labels\n",
    "plt.xlabel('Predicted Values',  fontsize=14, fontweight='bold')\n",
    "plt.ylabel('Residuals', fontsize=14, fontweight='bold')\n",
    "# graph title\n",
    "plt.title('Residual Plot - Ridge Regression',  fontsize=15, fontweight='bold')\n",
    "# display graph\n",
    "plt.show()"
   ]
  },
  {
   "cell_type": "markdown",
   "id": "8cc4bda1-3bf6-492f-b030-335fe04862d3",
   "metadata": {},
   "source": [
    "- In the residual plot for ridge regression, \n",
    "    - The data points are above the residual=0 line near [200000,400000]\n",
    "    - Then, more data points are below the residual=0 line at [400000,600000]\n",
    "    - Data points are lastly above and below the residual=0 line again at [600000,800000]\n",
    "- The data points form a U-shaped pattern. \n",
    "- Therefore, this shows that the ridge regression model is not the best fit for the data. "
   ]
  },
  {
   "cell_type": "markdown",
   "id": "ddb1e73a-c89d-4e42-951b-c38404dbf5bc",
   "metadata": {},
   "source": [
    "<h2>Best Model</h2>\n",
    "<h3>Since Gradient Boosting Regression is a best fit for data, with good evaluation metric values, I chose it as the best model.</h3>"
   ]
  },
  {
   "cell_type": "markdown",
   "id": "575be12d-3ccd-428a-9ce9-7ed0f7ac1175",
   "metadata": {},
   "source": [
    "<h1><center>Model Improvement and Tuning Hyperparameters on Gradient Boosting Regression</center></h1>"
   ]
  },
  {
   "cell_type": "markdown",
   "id": "5a741e1c-8244-4a0f-80c4-6998874f55e5",
   "metadata": {},
   "source": [
    "<h3>Perform GridSearchCV</h3>\n",
    "<h4>To search for the best combination of hyperparameters for Gradient Boosting Regression model</h4>"
   ]
  },
  {
   "cell_type": "code",
   "execution_count": 57,
   "id": "519cffb6-7576-4772-9491-47a1ef92e3c8",
   "metadata": {},
   "outputs": [
    {
     "name": "stdout",
     "output_type": "stream",
     "text": [
      "---- Gradient Boosting Regressor Model GridSearchCV Results: ----\n",
      "------------------------------------------\n",
      "Best Parameters:  {'learning_rate': 0.1, 'max_depth': 5, 'n_estimators': 400}\n",
      "model MSE:  394652629.7234902 \n",
      "\n",
      "model RMSE:  19865.865944465902 \n",
      "\n",
      "model r2:  0.9965846405695755 \n",
      "\n",
      "model MAE:  3816.645665597704 \n",
      "\n",
      "model MAPE:  0.733543667455614\n"
     ]
    }
   ],
   "source": [
    "# Gradient Boosting Regression\n",
    "from sklearn.ensemble import GradientBoostingRegressor\n",
    "from sklearn.model_selection import train_test_split\n",
    "from sklearn.metrics import r2_score, mean_squared_error, mean_absolute_error\n",
    "from sklearn.model_selection import GridSearchCV\n",
    "\n",
    "# define X and y for easy identification\n",
    "# features\n",
    "X = housing_df.drop('Price ($)', axis=1)\n",
    "# target variable\n",
    "y = housing_df['Price ($)']\n",
    "\n",
    "# split the data into train and test sets \n",
    "X_train, X_test, y_train, y_test = train_test_split(X, y, test_size=0.4, random_state=0)\n",
    "\n",
    "# further split the train set into a new train and validation sets\n",
    "X_train, X_val, y_train, y_val = train_test_split(X_train, y_train, test_size=0.4, random_state=0)\n",
    "    \n",
    "# create Gradient Boosting Regression model\n",
    "GBR = GradientBoostingRegressor(random_state=0)\n",
    "\n",
    "# define parameters for GridSearchCV\n",
    "param_grid = {\n",
    "    'n_estimators': [100, 200, 300, 400, 500],\n",
    "    'learning_rate': [0.1, 0.05, 0.2, 0.01],\n",
    "    'max_depth': [5, 10, 15, 20]\n",
    "}\n",
    "    \n",
    "# create GridSearchCV\n",
    "grid_search = GridSearchCV(GBR, param_grid, cv=5, scoring='neg_mean_squared_error')\n",
    "\n",
    "# fit gridsearch on training data\n",
    "grid_search.fit(X_train, y_train)\n",
    "\n",
    "# best model, best params\n",
    "best_model = grid_search.best_estimator_\n",
    "best_params = grid_search.best_params_\n",
    "\n",
    "# make predictions on validation data \n",
    "expected4 = y_val\n",
    "predicted4 = best_model.predict(X_val)\n",
    "\n",
    "# summarize the fit of the model\n",
    "# mean squared error (MSE)\n",
    "mse4 = mean_squared_error(expected3,predicted3)\n",
    "\n",
    "# root mean squared error (RMSE)\n",
    "rmse4 = np.sqrt(mse4)\n",
    "\n",
    "# R square, coefficient of determination\n",
    "r2_4 = r2_score(expected4, predicted4)\n",
    "\n",
    "# mean absolute error (MAE)\n",
    "mae4 = mean_absolute_error(expected4, predicted4)\n",
    "\n",
    "# mean absolute percentage error (MAPE)\n",
    "mape4 = np.mean(np.abs((expected4 - predicted4) / expected4)) * 100\n",
    "\n",
    "print('---- Gradient Boosting Regressor Model GridSearchCV Results: ----\\n------------------------------------------')\n",
    "# best parameters\n",
    "print('Best Parameters: ', best_params)\n",
    "# mse\n",
    "print('model MSE: ', mse4, '\\n')\n",
    "# rmse\n",
    "print('model RMSE: ', rmse4, '\\n')\n",
    "# r2\n",
    "print('model r2: ', r2_4, '\\n')\n",
    "# mae\n",
    "print('model MAE: ', mae4, '\\n')\n",
    "# mape\n",
    "print('model MAPE: ', mape4)"
   ]
  },
  {
   "cell_type": "markdown",
   "id": "f53fa729-a005-4f2a-bca9-b88444f88dcc",
   "metadata": {},
   "source": [
    "<h1><center>Using the Best Model on Testing Set</center></h1>"
   ]
  },
  {
   "cell_type": "code",
   "execution_count": 54,
   "id": "27e0ed35-819a-4104-a52e-448924570133",
   "metadata": {},
   "outputs": [
    {
     "name": "stdout",
     "output_type": "stream",
     "text": [
      "---- Gradient Boosting Regressor Model Results on Testing Data: ----\n",
      "------------------------------------------\n",
      "model MSE:  482020517.5314432 \n",
      "\n",
      "model RMSE:  21954.965669101904 \n",
      "\n",
      "model r2:  0.9873983391799708 \n",
      "\n",
      "model MAE:  4861.765779147207 \n",
      "\n",
      "model MAPE:  0.7240203126666186\n"
     ]
    }
   ],
   "source": [
    "# Gradient Boosting Regression\n",
    "from sklearn.ensemble import GradientBoostingRegressor\n",
    "from sklearn.model_selection import train_test_split\n",
    "from sklearn.metrics import r2_score, mean_squared_error, mean_absolute_error\n",
    "\n",
    "# define X and y for easy identification\n",
    "# features\n",
    "X = housing_df.drop('Price ($)', axis=1)\n",
    "# target variable\n",
    "y = housing_df['Price ($)']\n",
    "\n",
    "# split the data into train and test sets \n",
    "X_train, X_test, y_train, y_test = train_test_split(X, y, test_size=0.4, random_state=0)\n",
    "    \n",
    "# create Gradient Boosting Regression model\n",
    "GBR = GradientBoostingRegressor(n_estimators=400, learning_rate=0.1, max_depth=5, random_state=0)\n",
    "\n",
    "# fit GBR model on training data\n",
    "GBR.fit(X_train, y_train)\n",
    "\n",
    "# make predictions on testing data \n",
    "expected = y_test\n",
    "predicted = GBR.predict(X_test)\n",
    "\n",
    "# summarize the fit of the model\n",
    "# mean squared error (MSE)\n",
    "mse = mean_squared_error(expected,predicted)\n",
    "\n",
    "# root mean squared error (RMSE)\n",
    "rmse = np.sqrt(mse)\n",
    "\n",
    "# R square, coefficient of determination\n",
    "r2 = r2_score(expected, predicted)\n",
    "\n",
    "# mean absolute error (MAE)\n",
    "mae = mean_absolute_error(expected, predicted)\n",
    "\n",
    "# mean absolute percentage error (MAPE)\n",
    "mape = np.mean(np.abs((expected - predicted) / expected)) * 100\n",
    "\n",
    "print('---- Gradient Boosting Regressor Model Results on Testing Data: ----\\n------------------------------------------')\n",
    "# mse\n",
    "print('model MSE: ', mse, '\\n')\n",
    "# rmse\n",
    "print('model RMSE: ', rmse, '\\n')\n",
    "# r2\n",
    "print('model r2: ', r2, '\\n')\n",
    "# mae\n",
    "print('model MAE: ', mae, '\\n')\n",
    "# mape\n",
    "print('model MAPE: ', mape)"
   ]
  },
  {
   "cell_type": "markdown",
   "id": "7a7e7d47-1713-4c95-a987-d710135858f4",
   "metadata": {},
   "source": [
    "<h2>Creating a Dummy Baseline</h2>"
   ]
  },
  {
   "cell_type": "code",
   "execution_count": 55,
   "id": "05802038-0aa5-4217-a31c-b607701afa77",
   "metadata": {},
   "outputs": [
    {
     "name": "stdout",
     "output_type": "stream",
     "text": [
      "---- Dummy Baseline Model Results on Testing Data: ----\n",
      "------------------------------------------\n",
      "model MSE:  38374034349.65022 \n",
      "\n",
      "model RMSE:  195892.91551674405 \n",
      "\n",
      "model r2:  -0.003228177188320691 \n",
      "\n",
      "model MAE:  149699.2350952501 \n",
      "\n",
      "model MAPE:  34.782949348528476\n"
     ]
    }
   ],
   "source": [
    "# import dummy baseline\n",
    "from sklearn.dummy import DummyRegressor\n",
    "\n",
    "# create a dummy baseline model\n",
    "dummy = DummyRegressor(strategy='mean')\n",
    "\n",
    "# fit dummy model on training data\n",
    "dummy.fit(X_train, y_train)\n",
    "\n",
    "# make predictions on testing data \n",
    "expected = y_test\n",
    "dummyPredicted = dummy.predict(X_test)\n",
    "\n",
    "# summarize the fit of the model\n",
    "# mean squared error (MSE)\n",
    "mse0 = mean_squared_error(expected, dummyPredicted)\n",
    "\n",
    "# root mean squared error (RMSE)\n",
    "rmse0 = np.sqrt(mse0)\n",
    "\n",
    "# R square, coefficient of determination\n",
    "r2_0 = r2_score(expected, dummyPredicted)\n",
    "\n",
    "# mean absolute error (MAE)\n",
    "mae0 = mean_absolute_error(expected, dummyPredicted)\n",
    "\n",
    "# mean absolute percentage error (MAPE)\n",
    "mape0 = np.mean(np.abs((expected - dummyPredicted) / expected)) * 100\n",
    "\n",
    "print('---- Dummy Baseline Model Results on Testing Data: ----\\n------------------------------------------')\n",
    "# mse\n",
    "print('model MSE: ', mse0, '\\n')\n",
    "# rmse\n",
    "print('model RMSE: ', rmse0, '\\n')\n",
    "# r2\n",
    "print('model r2: ', r2_0, '\\n')\n",
    "# mae\n",
    "print('model MAE: ', mae0, '\\n')\n",
    "# mape\n",
    "print('model MAPE: ', mape0)"
   ]
  },
  {
   "cell_type": "markdown",
   "id": "bf9e836b-e263-4c5e-9440-a4d85e1b823e",
   "metadata": {},
   "source": [
    "<h2> Compare Model Performance to Dummy Baseline</h2>"
   ]
  },
  {
   "cell_type": "code",
   "execution_count": 56,
   "id": "1831c68b-aab2-4378-9e26-224723072c82",
   "metadata": {},
   "outputs": [
    {
     "name": "stdout",
     "output_type": "stream",
     "text": [
      "K-fold Cross-Validation Results for GBR:\n",
      "\n",
      "Mean MSE:  136055573.60111445\n",
      "STD MSE:  129916954.52360214 \n",
      "\n",
      "----------------------------------------------\n",
      "K-fold Cross-Validation Results for Dummy Model:\n",
      "\n",
      "Mean MSE:  34951875585.05389\n",
      "STD MSE:  8527294632.129402\n"
     ]
    }
   ],
   "source": [
    "# import\n",
    "from sklearn.model_selection import KFold, cross_val_score\n",
    "\n",
    "# create the K-fold cross-validation object\n",
    "kf = KFold(n_splits=6, shuffle=True, random_state=0)\n",
    "\n",
    "# perform cross-validation on GBR and dummy model\n",
    "cvGBR = cross_val_score(GBR, X, y, cv=kf, scoring='neg_mean_squared_error')\n",
    "cvDummy = cross_val_score(dummy, X, y, cv=kf, scoring='neg_mean_squared_error')\n",
    "\n",
    "# convert the negative mean squared error scores to positive\n",
    "mse_scores1 = -cvGBR\n",
    "mse_scores2 = -cvDummy\n",
    "\n",
    "# calculate mean and std of scores\n",
    "mean_mse1 = np.mean(mse_scores1)\n",
    "mean_mse2 = np.mean(mse_scores2)\n",
    "std_mse1 = np.std(mse_scores1)\n",
    "std_mse2 = np.std(mse_scores2)\n",
    "\n",
    "# cross validation results\n",
    "print('K-fold Cross-Validation Results for GBR:\\n')\n",
    "print('Mean MSE: ', mean_mse1)\n",
    "print('STD MSE: ', std_mse1, '\\n')\n",
    "\n",
    "print('----------------------------------------------')\n",
    "\n",
    "print('K-fold Cross-Validation Results for Dummy Model:\\n')\n",
    "print('Mean MSE: ', mean_mse2)\n",
    "print('STD MSE: ', std_mse2)"
   ]
  }
 ],
 "metadata": {
  "kernelspec": {
   "display_name": "Python 3 (ipykernel)",
   "language": "python",
   "name": "python3"
  },
  "language_info": {
   "codemirror_mode": {
    "name": "ipython",
    "version": 3
   },
   "file_extension": ".py",
   "mimetype": "text/x-python",
   "name": "python",
   "nbconvert_exporter": "python",
   "pygments_lexer": "ipython3",
   "version": "3.9.12"
  }
 },
 "nbformat": 4,
 "nbformat_minor": 5
}
